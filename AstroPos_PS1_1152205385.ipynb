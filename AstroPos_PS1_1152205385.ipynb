{
  "nbformat": 4,
  "nbformat_minor": 0,
  "metadata": {
    "kernelspec": {
      "display_name": "Python 3",
      "language": "python",
      "name": "python3"
    },
    "language_info": {
      "codemirror_mode": {
        "name": "ipython",
        "version": 3
      },
      "file_extension": ".py",
      "mimetype": "text/x-python",
      "name": "python",
      "nbconvert_exporter": "python",
      "pygments_lexer": "ipython3",
      "version": "3.8.5"
    },
    "colab": {
      "name": "AstroPos_PS1_1152205385.ipynb",
      "provenance": [],
      "include_colab_link": true
    }
  },
  "cells": [
    {
      "cell_type": "markdown",
      "metadata": {
        "id": "view-in-github",
        "colab_type": "text"
      },
      "source": [
        "<a href=\"https://colab.research.google.com/github/pabloudea/AstroPosicion/blob/main/AstroPos_PS1_1152205385.ipynb\" target=\"_parent\"><img src=\"https://colab.research.google.com/assets/colab-badge.svg\" alt=\"Open In Colab\"/></a>"
      ]
    },
    {
      "cell_type": "markdown",
      "metadata": {
        "id": "L2o-a6BqVOiw"
      },
      "source": [
        "<a href=\"https://colab.research.google.com/github/pabloudea/AstroPosicion/blob/main/AstroPos_PS1_1152205385.ipynb\" target=\"_parent\"><img src=\"https://colab.research.google.com/assets/colab-badge.svg\" alt=\"Open In Colab\"/></a>\n",
        "\n",
        "# 1. Resuelva los siguientes triángulos esféricos:\n",
        "\n",
        "#### 1.1)\n",
        "A = 58°08'00'' ; B = 68°36'00'' ; C = 92°02'00''"
      ]
    },
    {
      "cell_type": "markdown",
      "metadata": {
        "id": "KxAqV6_oVOiy"
      },
      "source": [
        "Para hallar $a$ utilizamos el teorema del coseno para ángulos: \n",
        "\n",
        "$$ a = cos^{-1}(\\frac{cos(A) + cos(B)cos(C)}{sen(B)sen(C)}) $$\n",
        "\n",
        "Para hallar $b$ y $c$ utilizamos el teorema del seno:\n",
        "\n",
        "$$ \\frac{sen(A)}{sen(a)} = \\frac{sen(B)}{sen(b)} = \\frac{sen(C)}{sen(c)}$$"
      ]
    },
    {
      "cell_type": "code",
      "metadata": {
        "id": "hHgW95dIVOiy",
        "outputId": "c59d6133-7015-491f-e5d2-ef0157499d76"
      },
      "source": [
        "import numpy as np\n",
        "\n",
        "cos,sin,tan,arcsin,arccos,arctan = np.cos,np.sin,np.tan,np.arcsin,np.arccos,np.arctan\n",
        "pi=np.round(np.pi,4)\n",
        "deg=180/pi\n",
        "minutes = lambda theta: int((theta - int(theta) )*60)\n",
        "seconds = lambda minutes: int(np.round((minutes - int(minutes) )*60))\n",
        "\n",
        "(A,B,C)=(58.1333/deg,68.06/deg,92.0333/deg)\n",
        "\n",
        "a = arccos( ( cos(A)+cos(B)*cos(C) )/( sin(B)*sin(C) ) )\n",
        "b = arcsin( (sin(a)/sin(A)) * sin(B) )\n",
        "c = arcsin( (sin(a)/sin(A)) * sin(C) )\n",
        "print(\"a = {}, b = {} y c = {}\".format(a*deg,b*deg,c*deg))\n"
      ],
      "execution_count": null,
      "outputs": [
        {
          "output_type": "stream",
          "text": [
            "a = 56.27399892161169, b = 65.28225997058352 y c = 78.14955593692018\n"
          ],
          "name": "stdout"
        }
      ]
    },
    {
      "cell_type": "markdown",
      "metadata": {
        "id": "w-g2VE3aVOiz"
      },
      "source": [
        "#### 1.2)\n",
        "\n",
        "a = 27°59'22''; b = 41°05'06''; c = 60°22'25''"
      ]
    },
    {
      "cell_type": "code",
      "metadata": {
        "id": "Oxn-ohyKVOi0",
        "outputId": "64f3d119-8caa-4cbd-be56-f5da51fc9043"
      },
      "source": [
        "(a, b, c) = (27.989444/deg, 41.085/deg, 60.3736111/deg)\n",
        "A = arccos( ( cos(a)-cos(b)*cos(c) )/( sin(b)*sin(c) ) )\n",
        "B = arccos( ( cos(b)-cos(a)*cos(c) )/( sin(a)*sin(c) ) )\n",
        "C = arccos( ( cos(c)-cos(a)*cos(b) )/( sin(a)*sin(b) ) )\n",
        "print(\"A = {}, B = {} y C = {}\".format(A*deg,B*deg,C*deg))"
      ],
      "execution_count": null,
      "outputs": [
        {
          "output_type": "stream",
          "text": [
            "A = 26.681989135055844, B = 38.96109941224953 y C = 123.72362345554228\n"
          ],
          "name": "stdout"
        }
      ]
    },
    {
      "cell_type": "markdown",
      "metadata": {
        "id": "xgn_ZliBVOi0"
      },
      "source": [
        "#### 1.3)\n",
        "\n",
        "A= 54°41'10'' ; B = 67°36'45''; C = 75°34'59''"
      ]
    },
    {
      "cell_type": "code",
      "metadata": {
        "id": "p8erjHPfVOi1",
        "outputId": "8ae338c3-0961-4e5b-9441-7c0daa332bc8"
      },
      "source": [
        "(A,B,C)=(54.06861/deg,67.6125/deg,75.58305/deg)\n",
        "\n",
        "a = arccos( ( cos(A)+cos(B)*cos(C) )/( sin(B)*sin(C) ) )\n",
        "b = arcsin( (sin(a)/sin(A)) * sin(B) )\n",
        "c = arcsin( (sin(a)/sin(A)) * sin(C) )\n",
        "print(\"a = {}, b = {} y c = {}\".format(a*deg,b*deg,c*deg))\n"
      ],
      "execution_count": null,
      "outputs": [
        {
          "output_type": "stream",
          "text": [
            "a = 40.43230547447361, b = 47.78133714966241 y c = 50.871422951875466\n"
          ],
          "name": "stdout"
        }
      ]
    },
    {
      "cell_type": "markdown",
      "metadata": {
        "id": "2WkrHkupVOi1"
      },
      "source": [
        "#### 1.4)\n",
        "\n",
        "a = 56°22'31'' ; b = 65°54'20'' ; c = 78°27'00''"
      ]
    },
    {
      "cell_type": "code",
      "metadata": {
        "id": "fGAIgOBxVOi1",
        "outputId": "d8e9f8e9-7b11-42a3-aa5e-33bbc5b9c5bc"
      },
      "source": [
        "(a, b, c) = (56.37528/deg, 65.90556/deg, 78.45/deg)\n",
        "A = arccos( ( cos(a)-cos(b)*cos(c) )/( sin(b)*sin(c) ) )\n",
        "B = arccos( ( cos(b)-cos(a)*cos(c) )/( sin(a)*sin(c) ) )\n",
        "C = arccos( ( cos(c)-cos(a)*cos(b) )/( sin(a)*sin(b) ) )\n",
        "print(\"A = {}°, B = {}° y C = {}°\".format(A*deg,B*deg,C*deg))"
      ],
      "execution_count": null,
      "outputs": [
        {
          "output_type": "stream",
          "text": [
            "A = 58.14653830681384°, B = 68.62298505109669° y C = 91.94804019766852°\n"
          ],
          "name": "stdout"
        }
      ]
    },
    {
      "cell_type": "markdown",
      "metadata": {
        "id": "2ZB3pMVHVOi2"
      },
      "source": [
        "#### 1.5)\n",
        "\n",
        "a = b = 78°23'03'' ; C = 118°54'04''"
      ]
    },
    {
      "cell_type": "code",
      "metadata": {
        "id": "i-O7JvfEVOi3",
        "outputId": "ba789f93-4028-4d6f-f472-30973a10ac32"
      },
      "source": [
        "(a, C) = (78.3841667/deg, 118.9011/deg)\n",
        "\n",
        "c = arccos( cos(a)**2 + sin(a)**2 * cos(C) )\n",
        "A = arccos( ( cos(a)-cos(a)*cos(c) )/( sin(a)*sin(c) ) )\n",
        "print(\"A = {}°, B = {}° y c = {}°\".format(A*deg,A*deg,c*deg))"
      ],
      "execution_count": null,
      "outputs": [
        {
          "output_type": "stream",
          "text": [
            "A = 71.1630116240855°, B = 71.1630116240855° y c = 115.0346361626147°\n"
          ],
          "name": "stdout"
        }
      ]
    },
    {
      "cell_type": "markdown",
      "metadata": {
        "id": "g5CnTr7hVOi3"
      },
      "source": [
        "#### 1.6)\n",
        "\n",
        "a = 73°58'58'' ; b = 38°45'00'' ; C = 46°33'41''"
      ]
    },
    {
      "cell_type": "code",
      "metadata": {
        "id": "1lp0H0GhVOi4",
        "outputId": "e270c0d3-dd58-4a07-d732-c615633cf57f"
      },
      "source": [
        "(a, b, C) = (73.98278/deg, 38.75/deg, 46.56139/deg)\n",
        "\n",
        "c = arccos( cos(a)*cos(b) + sin(a)*sin(b) * cos(C) )\n",
        "A = arccos( ( cos(a)-cos(b)*cos(c) )/( sin(b)*sin(c) ) )\n",
        "B = arccos( ( cos(b)-cos(a)*cos(c) )/( sin(a)*sin(c) ) )\n",
        "print(\"A = {}°{}'{}'', B = {}°{}'{}'' y c = {}°{}'{}''\".format(int(A*deg),minutes(A*deg),seconds(A*deg),\n",
        "                                                              int(B*deg),minutes(B*deg),seconds(B*deg),\n",
        "                                                              int(c*deg),minutes(c*deg),seconds(c*deg) ) \n",
        "     )"
      ],
      "execution_count": null,
      "outputs": [
        {
          "output_type": "stream",
          "text": [
            "A = 116°9'9'', B = 35°46'46'' y c = 51°2'2''\n"
          ],
          "name": "stdout"
        }
      ]
    },
    {
      "cell_type": "markdown",
      "metadata": {
        "id": "ULOdx2qWVOi4"
      },
      "source": [
        "#### 1.7)\n",
        "\n",
        "a = 58°46'22'' ; b = 137°02'50'' ; B = 131°52'33''"
      ]
    },
    {
      "cell_type": "code",
      "metadata": {
        "id": "O1mX7EKaVOi5",
        "outputId": "99372d84-ad3e-4e38-8edc-b609a913e693"
      },
      "source": [
        "(a, b, B) = (58.77278/deg, 137.04722/deg, 131.87583/deg)\n",
        "\n",
        "Aes = np.array([np.round(arcsin( (sin(B)/sin(b)) * sin(a) ),4),pi-np.round(arcsin( (sin(B)/sin(b)) * sin(a) ),4)] )\n",
        "Ces = np.round(2*arctan( cos( (a-b)/2 ) / ( cos( (a+b)/2 ) * tan( (Aes+B)/2 ) ) ),4)\n",
        "ces = np.round(2*arctan( cos( (Aes+B)/2 ) / cos( (Aes-B)/2 ) * tan( (a+b)/2 ) ),4)\n",
        "\n",
        "for i in range(0,len(Aes)): \n",
        "    print(\"A{0} = {1}°{2}'{3}'', C{0} = {4}°{5}'{6}'' y c{0} = {7}°{8}'{9}''\".format(\n",
        "    i+1,int(Aes[i]*deg),minutes(Aes[i]*deg),seconds(Aes[i]*deg),int(Ces[i]*deg),minutes(Ces[i]*deg),seconds(Ces[i]*deg),int(ces[i]*deg),minutes(ces[i]*deg),seconds(ces[i]*deg) ) )"
      ],
      "execution_count": null,
      "outputs": [
        {
          "output_type": "stream",
          "text": [
            "A1 = 69°8'8'', C1 = 92°32'32'' y c1 = 113°54'55''\n",
            "A2 = 110°51'52'', C2 = 147°32'33'' y c2 = 150°35'35''\n"
          ],
          "name": "stdout"
        }
      ]
    },
    {
      "cell_type": "markdown",
      "metadata": {
        "id": "64JG8UpxVOi5"
      },
      "source": [
        "#### 1.8)\n",
        "\n",
        "c = 116°12'05'' ; A = 70°51'15'' ; B = 131°20'26''"
      ]
    },
    {
      "cell_type": "code",
      "metadata": {
        "id": "mvm4I6aMVOi6",
        "outputId": "480c5436-817e-4505-c9ab-6131fb4d2ccd"
      },
      "source": [
        "(A, B, c) = (70.8541667/deg, 131.340556/deg, 116.201389/deg)\n",
        "\n",
        "C = arccos( -cos(A)*cos(B) + sin(A)*sin(B)*cos(c) )\n",
        "\n",
        "a = arccos( ( cos(A)+cos(B)*cos(C) )/( sin(B)*sin(C) ) )\n",
        "b = arccos( ( cos(B)+cos(A)*cos(C) )/( sin(A)*sin(C) ) )\n",
        "\n",
        "print(\"a = {}°{}'{}'', b = {}°{}'{}'' y C = {}°{}'{}''\".format(int(a*deg),minutes(a*deg),seconds(a*deg),\n",
        "                                                              int(b*deg),minutes(b*deg),seconds(b*deg),\n",
        "                                                              int(C*deg),minutes(C*deg),seconds(C*deg) ) \n",
        "     )"
      ],
      "execution_count": null,
      "outputs": [
        {
          "output_type": "stream",
          "text": [
            "a = 58°23'23'', b = 137°24'24'' y C = 95°32'32''\n"
          ],
          "name": "stdout"
        }
      ]
    },
    {
      "cell_type": "markdown",
      "metadata": {
        "id": "KWgZt8RKVOi6"
      },
      "source": [
        "#### 1.9)\n",
        "\n",
        "A = 70° ; B = 131° ; a = 116°"
      ]
    },
    {
      "cell_type": "code",
      "metadata": {
        "id": "S7OGHTUuVOi6",
        "outputId": "19fe69c9-2ec3-4f13-8954-c2a6c6645b5f"
      },
      "source": [
        "(A, B, a) = (70.8541667/deg, 131.340556/deg, 116.201389/deg)\n",
        "\n",
        "bs = np.array([np.round(arcsin( (sin(a)/sin(A)) * sin(B) ),4), pi-np.round(arcsin( (sin(a)/sin(A)) * sin(B) ),4)])\n",
        "\n",
        "ces = np.round(2*arctan( cos( (A+B)/2 ) / cos( (A-B)/2 ) * tan( (a+bs)/2 ) ),4)\n",
        "Ces = np.round(arccos( -cos(A)*cos(B) + sin(A)*sin(B)*cos(ces) ),4)\n",
        "\n",
        "for i in (0,1):\n",
        "    print(\"C{0} = {1}°{2}'{3}'', b{0} = {4}°{5}'{6}'' y c{0} = {7}°{8}'{9}''\".format(i+1, int(Ces[i]*deg), minutes(Ces[i]*deg),\n",
        "                                                                                     seconds(Ces[i]*deg), int(bs[i]*deg),\n",
        "                                                                                     minutes(bs[i]*deg), seconds(bs[i]*deg),\n",
        "                                                                                     int(ces[i]*deg), minutes(ces[i]*deg),\n",
        "                                                                                     seconds(ces[i]*deg) ) )\n"
      ],
      "execution_count": null,
      "outputs": [
        {
          "output_type": "stream",
          "text": [
            "C1 = 90°18'18'', b1 = 45°29'29'' y c1 = -108°-14'-14''\n",
            "C2 = 37°0'0'', b2 = 134°30'31'' y c2 = 34°51'52''\n"
          ],
          "name": "stdout"
        }
      ]
    },
    {
      "cell_type": "markdown",
      "metadata": {
        "id": "gJaYv1ttVOi7"
      },
      "source": [
        "#### 1.10) \n",
        "\n",
        "$a = 67°25'35''$ ; $b = 143°44'46''$ ; $B-A = 32°14'$"
      ]
    },
    {
      "cell_type": "code",
      "metadata": {
        "id": "47OsBvoXVOi7",
        "outputId": "b2eae0e5-52f5-4a87-d14b-2704efe1695f"
      },
      "source": [
        "a,b,D=67.426389/deg,143.746111/deg,32.23333/deg\n",
        "\n",
        "C = 2*arctan( sin( (a-b)/2 ) / ( sin( (a+b)/2 ) * tan(-D/2) ) )\n",
        "c = arccos( cos(a)*cos(b) + sin(a)*sin(b)*cos(C) )\n",
        "B = arccos((cos(b)-cos(c)*cos(a)) / ( sin(c)*sin(a) ))\n",
        "A = arccos((cos(a)-cos(c)*cos(b)) / ( sin(c)*sin(b) ))\n",
        "\n",
        "print(\"A = {}°{}'{}'' , B = {}°{}'{}'' , C = {}°{}'{}'' y c = {}°{}'{}''\".format(int(A*deg),minutes(A*deg),seconds(A*deg),\n",
        "                                                              int(B*deg),minutes(B*deg),seconds(B*deg),int(C*deg),minutes(C*deg),\n",
        "                                                              seconds(C*deg),int(c*deg),minutes(c*deg),seconds(c*deg) ) )\n"
      ],
      "execution_count": null,
      "outputs": [
        {
          "output_type": "stream",
          "text": [
            "A = 111°4'4'' , B = 143°18'18'' , C = 131°29'30'' y c = 132°10'10''\n"
          ],
          "name": "stdout"
        }
      ]
    },
    {
      "cell_type": "markdown",
      "metadata": {
        "id": "WS450krnVOi8"
      },
      "source": [
        "# 2. Distancia entre dos puntos\n",
        "\n",
        "#### 2.1)\n",
        "\n",
        "Para hallar los catetos $a$ y$c$, se tiene que \n",
        "\n",
        "$$ c = 90°-\\phi_{A} $$ y $$ a = 90°-\\phi_{C} $$ donde $\\phi_{A}$ y $\\phi_{C}$ son las latitudes de los puntos A y C.\n",
        "\n",
        "Note además que el ángulo $B$ que se forma en el polo entre ambos catetos es igual a la diferencia entre sus longitudes, esto es:  \n",
        "\n",
        "$$B = |\\lambda_{C} - \\lambda_{A}|$$ \n",
        "\n",
        "donde $\\lambda_{A}$ y $\\lambda_{C}$ son las respectivas longitudes.\n",
        "\n",
        "Teniendo estos elementos, se calculan el cateto $b$ (que es igual a la distancia entre los dos puntos) y los ángulos $A$ y $C$ como sigue:\n",
        "\n",
        "$$ \\cos(b) = \\cos(a)\\cos(c) + \\sin(a)\\sin(c)\\cos(B) $$\n",
        "\n",
        "$$ \\cos(A) = \\frac{\\cos(a) - \\cos(b)\\cos(c)}{\\sin(b)\\sin(c)} $$\n",
        "\n",
        "$$ \\cos(C) = \\frac{\\cos(c) - \\cos(b)\\cos(a)}{\\sin(b)\\sin(a)} $$"
      ]
    },
    {
      "cell_type": "code",
      "metadata": {
        "id": "bFDxAt7nVOi8",
        "outputId": "47a356d0-0951-43bd-e1fc-2b35842b2da6"
      },
      "source": [
        "#Definimos las constantes R_e: Radio de la Tierra; R_a: Altura de vuelo; \n",
        "R_e = 6.371e3\n",
        "R_a = 10.\n",
        "\n",
        "#lat/d/R_polo: lat. del círculo polar ártico/dist. del polo al círculo polar ártico en radianes/dist. polo al círculo polar ártico en km\n",
        "lat_polo = 60.5\n",
        "d_polo = (90-lat_polo)/deg\n",
        "R_polo = d_polo*R_e\n",
        "\n",
        "#Ingresamos las coordenadas de Lisboa (l) y Seúl (s) en grados: lista[0]: latitud; lista[1]: longitud\n",
        "l, s=[38.71666,-9.15],[37.56667,126.983333]\n",
        "\n",
        "#Se hallan los valores de los catetos correspondientes a la latitud (90°-latitud) y el ángulo B entre ellos, todo en radianes\n",
        "# a: 90-lat(Lisboa); c: 90-lat(Seúl)\n",
        "a,c,B=(90-l[0])/deg,(90-s[0])/deg,(s[1]-l[1])/deg\n",
        "#Se resuleve el triángulo esférico para hallar la distancia b entre Lisboa y Seúl y se hallan los dos ángulos restantes\n",
        "b = arccos( cos(a)*cos(c) + sin(a)*sin(c) * cos(B) )\n",
        "A = arccos( ( cos(a)-cos(b)*cos(c) )/( sin(b)*sin(c) ) )\n",
        "C = arccos( ( cos(c)-cos(a)*cos(b) )/( sin(a)*sin(b) ) )\n",
        "\n",
        "print(\"La distancia que recorre el avión desde Lisboa hasta Seúl es de {} km.\\n \".format(round((R_e+R_a)*b,4)))"
      ],
      "execution_count": null,
      "outputs": [
        {
          "output_type": "stream",
          "text": [
            "La distancia que recorre el avión desde Lisboa hasta Seúl es de 10435.4204 km.\n",
            " \n"
          ],
          "name": "stdout"
        }
      ]
    },
    {
      "cell_type": "markdown",
      "metadata": {
        "id": "VyVkHIXyVOi9"
      },
      "source": [
        "Conocidos los ángulos del triángulo, hallamos la distancia mínima del polo a la trayectoria. Para esto se tiene que la geodésica que va del Polo a la trayectoria debe cortar a esta en un ángulo recto, con lo que aplicamos las fórmulas de Napier para triángulos rectrángulos esféricos, teniendo en cuenta que conocemos la hipotenusa y uno de los ángulos. (Del triángulo anterior resulta que $c$ es la hipotenusa del nuevo triángulo rectángulo y el ángulo $A$ es uno de los ángulos del mismo)\n"
      ]
    },
    {
      "cell_type": "code",
      "metadata": {
        "id": "fVxLl15TVOi-",
        "outputId": "891aeacb-4208-4957-91c6-bbb520aae4d5"
      },
      "source": [
        "# d es la distancia del polo a la trayectoria en radianes, b1 la distancia de Lisboa al punto donde se cortan la trayectoria que\n",
        "# va desde el polo hasta el círculo máximo que describe el vuelo y B1 es el ángulo que se forma en el polo entre c y b1\n",
        "d = arcsin( sin(c)*sin(A) )\n",
        "b1 = arctan( tan(c)*cos(A) )\n",
        "B1 = arctan( 1 / ( tan(A)*cos(C) ) )\n",
        "\n",
        "print(\"El avión pasa a {} km del Polo Norte. \".format(round((R_e+R_a)*d,4)))\n",
        "print(\"El avión sobrevuela el Círculo Polar Ártico.\\n \" if (R_e+R_a)*d < R_polo else \"No sobrevuela el Círculo Polar Ártico\")  "
      ],
      "execution_count": null,
      "outputs": [
        {
          "output_type": "stream",
          "text": [
            "El avión pasa a 2832.6078 km del Polo Norte. \n",
            "El avión sobrevuela el Círculo Polar Ártico.\n",
            " \n"
          ],
          "name": "stdout"
        }
      ]
    },
    {
      "cell_type": "markdown",
      "metadata": {
        "id": "Yhmi-UgCVOi-"
      },
      "source": [
        "#### 2.2)\n",
        "\n",
        "Un barco parte del punto A del paralelo de latitud **48°35' N** con velocidad de 20 nudos. Al mismo tiempo parte otro barco de un punto de la misma longitud que A, pero sobre el paralelo de latitud **36°52'N** y velocidad de 25 nudos. Ambos barcos siguen su paralelo en dirección **Oeste**. Encontrar la distancia en millas que los separa al cabo de 15 horas de marcha. ¿Cuál es el punto más cercano de la trayectoria al polo sur?"
      ]
    },
    {
      "cell_type": "markdown",
      "metadata": {
        "id": "1j20Sz8VVOi_"
      },
      "source": [
        "Para encontrar los elementos del triángulo esférico correspondiente, sean $\\phi_{A} = 48°35'$ la latitud de $A$ y $\\phi_{B} = 36°52'$ la latitud de $B$. Debido a que el movimiento de cada uno se da sobre sus propios paralelos, esta cantidad permanece constante en el tiempo. \n",
        "\n",
        "Por lo tanto, los dos primeros lados del triángulo corresponden a: \n",
        "\n",
        "$$ b = 90°-\\phi_{A} $$ y $$ a = 90°-\\phi_{B} $$\n",
        "\n",
        "Además, como parten de la misma longitud inicial $\\lambda_{0}$, tomamos esa longitud como punto de origen en nuestro sistema de referencia ($\\lambda_{0}$ = 0). \n",
        "\n",
        "Hallemos la distancia inicial entre ellos:\n",
        "\n",
        "$$d_{0} = |b-a| * R_{e}$$"
      ]
    },
    {
      "cell_type": "code",
      "metadata": {
        "id": "-HXJjE0RVOjA",
        "outputId": "92de384d-79d7-4a66-b063-0193f7b5112d"
      },
      "source": [
        "#Se define la tasa de conversión entre nudos y millas por hora y la tasa de conversión de km a millas.\n",
        "ndTomi = 1.1508 #mi/h\n",
        "KmTomi = 0.621371 # 1km en millas\n",
        "\n",
        "#Se ingresan los parámetros iniciales.\n",
        "latA, latC = 48.58333,36.86667\n",
        "v_A, v_C = -20*ndTomi, -25*ndTomi\n",
        "R_m = R_e*KmTomi #Radio de la Tierra en millas\n",
        "\n",
        "#Se hallan los catetos correspondientes a las latitudes dadas.\n",
        "c, a = (90-latA)/deg, (90-latC)/deg\n",
        "d0 = np.round(abs(c-a)*R_m,2)\n",
        "print(\"La distancia inicial entre los barcos es de {} millas.\".format(d0))"
      ],
      "execution_count": null,
      "outputs": [
        {
          "output_type": "stream",
          "text": [
            "La distancia inicial entre los barcos es de 809.54 millas.\n"
          ],
          "name": "stdout"
        }
      ]
    },
    {
      "cell_type": "markdown",
      "metadata": {
        "id": "M76E7IeGVOjA"
      },
      "source": [
        "También se tiene en cuenta que la distancia $s=v*t$ recorrida por un objeto que se mueve a velocidad $v$ sobre la Tierra, durante determinado tiempo $t$, es $s=\\theta*R_{e}$, donde $R_{e}$ es el radio de la Tierra, y $\\theta$ es el ángulo entre los puntos inicial y final.\n",
        "\n",
        "Si $v_{A}=-20~nd$ y $v_{C}=-25~nd$ son las velocidades de $A$ y $C$ respectivamente, entonces la longitud de ellos en el tiempo esta dada por las ecuaciones:\n",
        "\n",
        "$$ \\lambda_{A} = \\frac{v_{A}*t}{R_{e}} $$ y $$ \\lambda_{C} = \\frac{v_{C}*t}{R_{e}} $$\n",
        "\n",
        "Puesto que el ángulo que se forma entre $a$ y $c$ en el polo $P$ es igual a la diferencia entre las longitudes de $C$ y $A$ respectivamente, podemos escribir  $P = |\\lambda_{C} - \\lambda_{A}|$ como $$ P= \\frac{|v_{C} - v_{A}|* t}{R_{e}}$$\n"
      ]
    },
    {
      "cell_type": "code",
      "metadata": {
        "id": "udczyK5pVOjB",
        "outputId": "c0b78490-08e2-4dee-e6ed-d703d4e3f6c5"
      },
      "source": [
        "t=15 #Horas transcurridas\n",
        "\n",
        "#Se definen las longitudes en el tiempo y se encuentra el ángulo P después de t horas\n",
        "lonA, lonC = lambda t: v_A*t/R_m, lambda t: v_C*t/R_m\n",
        "P = np.abs(lonC(t)-lonA(t))\n",
        "\n",
        "#Se conocen a, b y P, que es el ángulo entre ellos, con lo que se calculan los demás elementos del triángulo.\n",
        "s = arccos( cos(a)*cos(c) + sin(a)*sin(c) * cos(P) )\n",
        "A = arccos( ( cos(a)-cos(b)*cos(c) )/( sin(b)*sin(c) ) )\n",
        "C = arccos( ( cos(c)-cos(a)*cos(b) )/( sin(a)*sin(b) ) )\n",
        "\n",
        "d = np.round(s*R_m,2)\n",
        "print(\"La distancia entre los barcos después de {} horas es de {} millas.\".format(t,d))\n"
      ],
      "execution_count": null,
      "outputs": [
        {
          "output_type": "stream",
          "text": [
            "La distancia entre los barcos después de 15 horas es de 811.99 millas.\n"
          ],
          "name": "stdout"
        }
      ]
    },
    {
      "cell_type": "markdown",
      "metadata": {
        "id": "8SR130TXVOjB"
      },
      "source": [
        "Tenemos que en general, si $s$ es la distancia entre dos puntos $A(\\phi_{A},\\lambda_{A})$ y $C(\\phi_{C},\\lambda_{C})$ ubicados sobre las coordenadas $(\\phi_{A},\\lambda_{A})$ y $(\\phi_{C},\\lambda_{C})$ respectivamente, la distancia mínima del Polo al círculo máximo que describe la trayectoria $s$ puede hallarse con la ecuación:\n",
        "\n",
        "$$ D_{Polo} = \\sin^{-1}[\\sin(c)\\sin(A)] = \\sin^{-1}[\\sin(a)\\sin(C)] $$\n",
        "\n",
        "donde $a,~c,~A~y~C$ se calculan como se menciono en el ejercicio $2.1$."
      ]
    },
    {
      "cell_type": "code",
      "metadata": {
        "id": "HX8MOhIMVOjB",
        "outputId": "333a3249-0957-4de6-8b06-c04d139b4fc1"
      },
      "source": [
        "D_Polo = arcsin( sin(c)*sin(A) )\n",
        "print( \"La distancia mínima de los polos a la trayectoria es de {} millas.\".format(round(D_Polo*R_m,2)) )"
      ],
      "execution_count": null,
      "outputs": [
        {
          "output_type": "stream",
          "text": [
            "La distancia mínima de los polos a la trayectoria es de 494.07 millas.\n"
          ],
          "name": "stdout"
        }
      ]
    },
    {
      "cell_type": "markdown",
      "metadata": {
        "id": "AEzBARxlVOjB"
      },
      "source": [
        "#### 2.3)\n",
        "Escriba un programa en el que dados 3 puntos sobre la Tierra, calcule el área del triángulo resultante. Utilice su código para estimar el área de Brasil. Así mismo, calcule su perímetro."
      ]
    },
    {
      "cell_type": "markdown",
      "metadata": {
        "id": "mFUiUBjSVOjC"
      },
      "source": [
        "Para esto, nótese que dados 3 puntos $A(\\phi_{A},\\lambda_{A})$, $B(\\phi_{B},\\lambda_{B})$ y $C(\\phi_{C},\\lambda_{C})$ sobre la Tierra, si se toman dos de ellos, dígasen $A$ y $B$, se puede formar el triángulo esférico que va de uno de los polos P a dichos puntos. En los ejercicios previos se mostró como resolver este tipo de triángulos y, en especial, como hallar la distancia de $A$ a $B$, llámese $s_{1}$.\n",
        "\n",
        "Como en total se pueden formar tres triángulos esféricos con este procedimiento, a saber, los triángulos $\\triangle{PAB}$, $\\triangle{PAC}$ y $\\triangle{PBC}$, se pueden encontrar los tres lados $s_{1}$, $s_{2}$ y $s_{3}$ respectivamente. \n",
        "\n",
        "Estos tres lados son los mismos que conforman el triángulo esférico que se forma entre $A$, $B$ y $C$ ($\\triangle{ABC}$), por lo que para hallar los ángulos internos del triángulo se utilizan las fórmulas de los cosenos para los lados de la trigonometría esférica, es decir, si $$ \\angle{\\hat{BAC}} = \\alpha $$ $$ \\angle{\\hat{ABC}} = \\beta $$ $$ \\angle{\\hat{ACB}} = \\gamma$$, entonces:\n",
        "\n",
        "$$ \\cos(\\alpha) = \\frac{\\cos(a) - \\cos(b)\\cos(c)}{\\sin(b)\\sin(c)} $$\n",
        "\n",
        "$$ \\cos(\\beta) = \\frac{\\cos(b) - \\cos(a)\\cos(c)}{\\sin(a)\\sin(c)} $$\n",
        "\n",
        "$$ \\cos(\\gamma) = \\frac{\\cos(c) - \\cos(b)\\cos(a)}{\\sin(b)\\sin(a)} $$\n",
        "\n",
        "Para calcular su perimetro basta con sumar $s_{1}$, $s_{2}$ y $s_{3}$ y para calcular su área, se calcula el **exceso esférico** $\\epsilon$ definido como $ \\epsilon = \\alpha + \\beta + \\gamma - \\pi $ y se multiplica por $\\frac{\\pi}{180°}*R^{2}$. Si los ángulos están dados en radianes, como $\\frac{\\pi}{180°} = 1~rad$, se multiplica solo por $R^{2}$. \n",
        "\n",
        "En resumen:\n",
        "\n",
        "$$[ A = \\left \\{ \\begin{matrix} \\frac{\\epsilon  \\pi}{180°}*R^{2} & \\mbox{si }\\epsilon \\mbox{ está en °} \\\\ \\epsilon * R^{2} & \\mbox{si }\\epsilon \\mbox{ está en radianes}\\end{matrix}\\right \n",
        "]$$\n",
        "\n",
        "y\n",
        "\n",
        "$$ P = s_{1} + s_{2} + s_{3}$$\n"
      ]
    },
    {
      "cell_type": "code",
      "metadata": {
        "id": "qTvaydrfVOjC"
      },
      "source": [
        "def Tri_esferico(A,B,C,R=6.371e3 ):\n",
        "    \"\"\"\n",
        "    Parámetros:\n",
        "    A, B, C deben ser listas que contengan las coordenadas de cada punto: A = [latA,longA]\n",
        "    Las coordenadas deben estar dadas en grados sexagesimales (°)\n",
        "    R es el radio de la esfera. Por defecto se toma el valor del radio terrestre en Km.\n",
        "    Devuelve un diccionario donde:\n",
        "    lados contiene un arreglo de NumPy con las medidas de los tres lados del triángulo esférico, dadas en km.\n",
        "    angulos contiene un arreglo de NumPy con las medidas de los tres ángulos del triángulo esférico, dadas en radianes.\n",
        "    exceso es el exceso esférico, perimetro medido en km y area en km^2\"\"\"\n",
        "                 \n",
        "    #Conversión de grados a radianes.             \n",
        "    lat , lon = list(np.array([i[0] for i in (A,B,C)])*round(np.pi/180,5)), list(np.array([i[1] for i in (A,B,C)])*round(np.pi/180,5))\n",
        "    #Cálculos de los lados s, los ángulos ang, el exceso eps, el perímetro P y el área A\n",
        "    s = [ arccos( sin(lat[i])*sin(lat[j]) + cos(lat[i])*cos(lat[j])*cos( abs(lon[j]-lon[i]) ) ) for i in (0,len(A)) for j in (1,len(A)) if i!=j ]\n",
        "    ang = [ arccos( ( cos(s[i])-cos(s[j])*cos(s[k]) ) / ( sin(s[j])*sin(s[k]) ) ) for i in range(0,len(s)) for j in range(0,len(s)) for k in range(0,len(s)) if i!=j and i!=k and j!=k and j<k]\n",
        "    eps = np.array(ang).sum()-pi\n",
        "    P = np.array(s).sum()*R\n",
        "    A = eps*(R**2)\n",
        "    #Creación del diccionario.\n",
        "    dicc = {\"lados\":list(np.array(s).round(5)*R), \"angulos\":np.array(ang).round(5), \"exceso\":round(eps,5), \"perimetro\":round(P,5), \"area\": round(A,5)}\n",
        "    return dicc\n"
      ],
      "execution_count": null,
      "outputs": []
    },
    {
      "cell_type": "markdown",
      "metadata": {
        "id": "LItaEH_HVOjC"
      },
      "source": [
        "Se ingresan las coordenadas de tres puntos sobre Brasil escogidos usando Google Earth con coordenadas\n",
        "$$A = ( 4°53'S, 35°43'O )$$ \n",
        "\n",
        "$$B = ( 1°50'N, 68°20'O )$$\n",
        "\n",
        "$$C = ( 33°35'S, 53°13'O )$$"
      ]
    },
    {
      "cell_type": "code",
      "metadata": {
        "id": "6vlAwFTnVOjC",
        "outputId": "3b5c5334-1832-4eee-c5ed-3b6a0dab84ae"
      },
      "source": [
        "A,B,C=[-4.88333,-35.71667],[1.83333, -68.33333],[-33.58333,-53.21667]\n",
        "Tri_esferico(A,B,C)"
      ],
      "execution_count": null,
      "outputs": [
        {
          "output_type": "execute_result",
          "data": {
            "text/plain": [
              "{'lados': [3698.87518, 3668.10325, 4243.85052],\n",
              " 'angulos': array([1.01795, 1.00611, 1.28262]),\n",
              " 'exceso': 0.16507,\n",
              " 'perimetro': 11610.82953,\n",
              " 'area': 6700063.80791}"
            ]
          },
          "metadata": {
            "tags": []
          },
          "execution_count": 17
        }
      ]
    },
    {
      "cell_type": "markdown",
      "metadata": {
        "id": "7Rz4-kqrVOjD"
      },
      "source": [
        "## 3. \n",
        "### La esfera celeste. Responda las siguientes preguntas y justifique:\n",
        "#### 3.1)\n",
        "\n",
        "Las regiones más meridionales de la Unión Soviética alcanzan una latitud de $35°$. ¿Qué ángulo forma allí el plano del ecuador con el horizonte?\n"
      ]
    },
    {
      "cell_type": "markdown",
      "metadata": {
        "id": "xgB4X0WVVOjD"
      },
      "source": [
        "La latitud $\\phi$ de un observador sobre la Tierra corresponde al ángulo entre el cenit y el Ecuador Celeste, por lo que el ángulo $\\beta$ que forma el Ecuador con el horizonte correspondería a $\\beta = 90° - \\phi$. Para este caso, $\\beta=55°$"
      ]
    },
    {
      "cell_type": "markdown",
      "metadata": {
        "id": "TLY_2AS_VOjD"
      },
      "source": [
        "#### 3.2)\n",
        "¿En cuáles dos casos la altura de las estrellas por encima del horizonte no cambia en el transcurso del día?"
      ]
    },
    {
      "cell_type": "markdown",
      "metadata": {
        "id": "RRFvgho8VOjD"
      },
      "source": [
        "En el caso de que el observador esté ubicado en uno de los Polos terrestres, pues las estrellas describirían círculos en torno al cenit con una altura fija respecto al horizonte.\n"
      ]
    },
    {
      "cell_type": "markdown",
      "metadata": {
        "id": "vaBiuEiEVOjE"
      },
      "source": [
        "#### 3.3) \n",
        "¿En qué condiciones el polo de la eclíptica coincide con el cenit del observador?\n"
      ]
    },
    {
      "cell_type": "markdown",
      "metadata": {
        "id": "j_ZkFvwIVOjE"
      },
      "source": [
        "Nótese que si el plano de la eclíptica no estuviese inclinado con respecto al plano del ecuador celeste, el polo $P_{e}$ de la eclíptica coincidiría con los polos celestes. Debido a la inclinación $\\epsilon$ de la eclíptica, $P$ se separa $epsilon$ grados de los polos celestes. \n",
        "\n",
        "Además, como el polo celeste coincide con el cenit para un observador ubicado sobre el respectivo polo terrestre, se tiene que la latitud $\\phi$ a la que debe estar ubicado un observador en la Tierra para que su cenit coincida con el polo de la eclíptica es $\\phi = 90° - \\epsilon$ .\n",
        "\n",
        "$$\\phi \\approx 86.5°$$\n",
        " "
      ]
    },
    {
      "cell_type": "markdown",
      "metadata": {
        "id": "LxY1kHcxVOjE"
      },
      "source": [
        "#### 3.4) \n",
        "La latitud de Medellín es $\\phi = 6°15'O$.\n",
        "Determine la distancia angular del punto del cenit en Medellín al polo del mundo."
      ]
    },
    {
      "cell_type": "markdown",
      "metadata": {
        "id": "UaSW3y_1VOjE"
      },
      "source": [
        "De manera semejante al punto anterior, para un observador ubicado sobre el ecuador terrestre, la distancia angular $\\alpha$ del cenit al polo del mundo es de $90°$ y, a medida que se avanza $\\phi$ grados hacia el norte/sur, esta distancia disminuye en los mismos $\\phi$ grados, es decir:\n",
        "\n",
        "$$\\alpha = 90° - \\phi = 83.75°$$"
      ]
    },
    {
      "cell_type": "markdown",
      "metadata": {
        "id": "VElQyKwtVOjE"
      },
      "source": [
        "#### 3.5)\n",
        "Determine la distancia lineal entre dos estrellas que se hallan a la distancia $r_{1}$ y $r_{2}$ de nosotros y se ven en el cielo a una distancia angular $\\theta$."
      ]
    },
    {
      "cell_type": "markdown",
      "metadata": {
        "id": "Bl2TlwhpVOjF"
      },
      "source": [
        "Para esto utilizamos la ley de cosenos de la geometría euclidiana, que nos dice que $$ d^{2} = r_{1}^{2}+r_{2}^{2} - 2r_{1}r_{2}\\cos(\\theta) $$"
      ]
    },
    {
      "cell_type": "markdown",
      "metadata": {
        "id": "TydGw6IiVOjF"
      },
      "source": [
        "#### 3.6 \n",
        "¿A qué hora (aproximadamente) sale la estrella que hace un mes salió a las 8 de la noche?."
      ]
    },
    {
      "cell_type": "markdown",
      "metadata": {
        "id": "YmTJaDUKVOjF"
      },
      "source": [
        "Si el Sol recorre $24~h$ de ascensión recta, con respecto al fondo de estrellas fijas, en 12 meses, quiere decir que avanza 2 horas por mes. Por lo tanto, la estrella que salió hace un mes a las 8 de la noche, sale ahora aproximadamente a las 10 de la noche."
      ]
    }
  ]
}