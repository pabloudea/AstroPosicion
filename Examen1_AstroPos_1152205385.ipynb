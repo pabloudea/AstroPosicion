{
 "cells": [
  {
   "cell_type": "markdown",
   "metadata": {},
   "source": [
    "# 1.\n",
    "## a y b)"
   ]
  },
  {
   "cell_type": "code",
   "execution_count": 1,
   "metadata": {},
   "outputs": [
    {
     "name": "stdout",
     "output_type": "stream",
     "text": [
      "La distancia que recorrió el crucero fue de 7568.013 km\n",
      "El punto final del crucero tiene las siguientes coordenadas:\n",
      "Latitud final: 27.38495°S\n",
      "Longitud final: 153.16434°E\n"
     ]
    }
   ],
   "source": [
    "import numpy as np\n",
    "\n",
    "arccos,arcsin,arctan = np.arccos,np.arcsin,np.arctan\n",
    "cos,sin,tan = np.cos,np.sin,np.tan\n",
    "\n",
    "#Nudos a km/h\n",
    "toKm = 1.852\n",
    "#Radianes a grados °\n",
    "toDeg = 180/np.pi\n",
    "#Radio de la Tierra\n",
    "R=6.371e3\n",
    "#Conversión de t a días \n",
    "to_day = lambda t: (t/24.)\n",
    "#horas en una fracción de día\n",
    "to_h = lambda t:(t-int(t))*24.\n",
    "#minutos en una fracción de hora. Válida para hallar los segundos en una fracción de minutos y para convertir de grados a minutos o de minutos a segundos.\n",
    "to_min = lambda t:(t-int(t))*60.\n",
    "\n",
    "#Parámetros del WGS84\n",
    "aWGS,f,e = 6.378137e3,1/298.257223563,np.sqrt(6.69437999e-3)\n",
    "\n",
    "#Condiciones iniciales del problema:\n",
    "\n",
    "#A=[lat, lon] del punto inicial del crucero, v la velocidad en nudos y t el tiempo en horas\n",
    "A,v,t = [19.6333,-156.],20.,204.32\n",
    "#theta es el ángulo entre el vector velocidad y el meridiano del lugar\n",
    "theta = (132.0808333)/toDeg\n",
    "\n",
    "#Convertir latitud y longitud de grados a radianes.             \n",
    "lat , lon = A[0]/toDeg, A[1]/toDeg\n",
    "\n",
    "#Hallar la distancia s (en radianes) recorrida tras t horas. Note que s*R=v*t\n",
    "s = (v*toKm*t)/R\n",
    "b = (np.pi/2-lat)\n",
    "\n",
    "#Cálculos de los lados a, y los ángulos B y S, donde S es el ángulo que se forma en el polo entre los meridianos que cruzan por cada punto.\n",
    "# El lado a corresponde a la colatitud del punto de llegada.\n",
    "a = arccos( sin(lat)*cos(s) + cos(lat)*sin(s)*cos(theta) )\n",
    "B = arccos( ( sin(lat)-cos(a)*cos(s) ) / ( sin(a)*sin(s) ) ) \n",
    "S = arccos( ( cos(s)-cos(a)*sin(lat) ) / ( sin(a)*cos(lat) ) )\n",
    "\n",
    "#Se hallan las coordenadas geodésicas del punto de llegada. Como la longitud del punto de llegada es menor que -180, \n",
    "#tenemos que dicha longitud se halla sumándo 360° al resultado.\n",
    "lat_f,lon_f = (90-a*toDeg), 360 + (A[1]-S*toDeg)\n",
    "\n",
    "print(\"La distancia que recorrió el crucero fue de {} km\".format(round(s*R,3)))\n",
    "print(\"El punto final del crucero tiene las siguientes coordenadas:\\nLatitud final: {}°S\\nLongitud final: {}°E\".format(round(abs(lat_f),5),round(lon_f,5)))\n"
   ]
  },
  {
   "cell_type": "markdown",
   "metadata": {},
   "source": [
    "El crucero tiene como punto de llegada el **Puerto de Brisbane** en **Australia**"
   ]
  },
  {
   "cell_type": "markdown",
   "metadata": {},
   "source": [
    "## c)"
   ]
  },
  {
   "cell_type": "code",
   "execution_count": 2,
   "metadata": {},
   "outputs": [
    {
     "name": "stdout",
     "output_type": "stream",
     "text": [
      "La longitud del punto por donde el crucero atraviesa el ecuador es: -176°-24'-38.23''\n",
      "La distancia desde el punto inicial hasta el punto por donde el crucero atraviesa el ecuador es de 3116.413Km\n",
      "El tiempo que tarda el crucero en llegar a este punto es de 3 días 12 horas 8 minutos 11.12 segundos\n"
     ]
    }
   ],
   "source": [
    "#Colatitud del punto donde cruza el ecuador. Note que al estar en el ecuador, esta es igual a 90°.\n",
    "ap=90./toDeg\n",
    "\n",
    "#Se hallan los ángulos E1 y P1, donde P1 es el ángulo que se forma en el polo entre los meridianos que pasan por el punto inicial y el punto por el que cruza el ecuador. \n",
    "E1 = arcsin(sin(b)*sin(theta))\n",
    "P1 = 2*arctan( cos( (ap-b)/2 ) / ( cos( (ap+b)/2 ) * tan( (theta+E1)/2 ) ) )\n",
    "\n",
    "#s_e es la distancia entre el punto inicial del viaje y el punto sobre el ecuador por el que atraviesa, medida en radianes\n",
    "s_e = 2*arctan( cos( (theta+E1)/2 ) / cos( (theta-E1)/2 ) * tan( (ap+b)/2 ) )\n",
    "\n",
    "#d_to_e es la distancia entre el punto inicial del viaje y el punto sobre el ecuador por el que atraviesa, medida en Km\n",
    "\n",
    "d_to_e = s_e*R   #Se multiplica s_e por el radio de la Tierra.\n",
    "\n",
    "#Se halla el tiempo, en horas, que tarda el crucero en cruzar por el ecuador\n",
    "t_to_e = d_to_e/(v*toKm)\n",
    "#Se halla la longitud del punto sobre el ecuador por el cual atraviesa el crucero en °\n",
    "lon_e=lon*toDeg-P1*toDeg\n",
    "\n",
    "print(\"La longitud del punto por donde el crucero atraviesa el ecuador es: {}°{}'{}''\".format(int(lon_e),int(to_min(lon_e)),round(to_min(to_min(lon_e)),2)))\n",
    "print(\"La distancia desde el punto inicial hasta el punto por donde el crucero atraviesa el ecuador es de {}Km\".format(round(d_to_e,3)))\n",
    "print(\"El tiempo que tarda el crucero en llegar a este punto es de {} días {} horas {} minutos {} segundos\".format( int( to_day(t_to_e) ), int( to_h( to_day(t_to_e) ) ), int( to_min( to_h( to_day(t_to_e) ) ) ), round(to_min( to_min( to_h( to_day(t_to_e) ) ) ),2)))\n"
   ]
  },
  {
   "cell_type": "markdown",
   "metadata": {},
   "source": [
    "## d)"
   ]
  },
  {
   "cell_type": "code",
   "execution_count": 3,
   "metadata": {},
   "outputs": [
    {
     "name": "stdout",
     "output_type": "stream",
     "text": [
      "Las coordenadas geodésicas del punto inicial son: (19.512°N,156.0°O) y rho=6375.769Km\n",
      "Las coordenadas geodésicas del punto final son: (27.228°S,153.164°E) y rho=6373.69Km\n"
     ]
    }
   ],
   "source": [
    "#Para hallar las coordenadas geocéntricas de los puntos inicial y final, se hallan las latitudes geocéntricas\n",
    "#ya que las longitudes son iguales. Se ha\n",
    "lat_centricas = arctan(tan(np.array([lat,lat_f/toDeg]))*(1-f)**2)\n",
    "rho = aWGS*np.sqrt( (1 - (2-e**2)*(e*sin(lat_centricas))**2)/(1 - (e*sin(lat_centricas))**2) )\n",
    "\n",
    "print(\"Las coordenadas geodésicas del punto inicial son: ({}°N,{}°O) y rho={}Km\".format(round(lat_centricas[0]*toDeg,3), round(abs(lon*toDeg),1), round(rho[0],3) ) )\n",
    "print(\"Las coordenadas geodésicas del punto final son: ({}°S,{}°E) y rho={}Km\".format(round(abs(lat_centricas[1]*toDeg),3), round(lon_f,3), round(rho[1],3) ) )"
   ]
  }
 ],
 "metadata": {
  "kernelspec": {
   "display_name": "Python 3",
   "language": "python",
   "name": "python3"
  },
  "language_info": {
   "codemirror_mode": {
    "name": "ipython",
    "version": 3
   },
   "file_extension": ".py",
   "mimetype": "text/x-python",
   "name": "python",
   "nbconvert_exporter": "python",
   "pygments_lexer": "ipython3",
   "version": "3.8.5"
  }
 },
 "nbformat": 4,
 "nbformat_minor": 4
}
