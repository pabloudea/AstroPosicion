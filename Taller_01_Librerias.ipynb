{
  "nbformat": 4,
  "nbformat_minor": 0,
  "metadata": {
    "kernelspec": {
      "display_name": "Python 3",
      "language": "python",
      "name": "python3"
    },
    "language_info": {
      "codemirror_mode": {
        "name": "ipython",
        "version": 3
      },
      "file_extension": ".py",
      "mimetype": "text/x-python",
      "name": "python",
      "nbconvert_exporter": "python",
      "pygments_lexer": "ipython3",
      "version": "3.7.3"
    },
    "colab": {
      "name": "Taller_01_Librerias.ipynb",
      "provenance": [],
      "include_colab_link": true
    }
  },
  "cells": [
    {
      "cell_type": "markdown",
      "metadata": {
        "id": "view-in-github",
        "colab_type": "text"
      },
      "source": [
        "<a href=\"https://colab.research.google.com/github/pabloudea/AstroPosicion/blob/main/Taller_01_Librerias.ipynb\" target=\"_parent\"><img src=\"https://colab.research.google.com/assets/colab-badge.svg\" alt=\"Open In Colab\"/></a>"
      ]
    },
    {
      "cell_type": "markdown",
      "metadata": {
        "id": "nA4x9ImgonU0"
      },
      "source": [
        "# Métodos Computacionales"
      ]
    },
    {
      "cell_type": "markdown",
      "metadata": {
        "id": "tUEL1WQ-onU7"
      },
      "source": [
        "## Taller_01\n",
        "\n",
        "### Unidad 1: \n",
        "\n",
        "- Librerias en Python.\n",
        "- Librerá NumPy.\n",
        "- Librería Matplotlib."
      ]
    },
    {
      "cell_type": "markdown",
      "metadata": {
        "id": "fiOcTy4zonU8"
      },
      "source": [
        "**1** Realice una función que elija dos numeros `a` y `b` de forma aleatoria varias veces y realice solo una operación de forma aleatoria (suma, resta,divición o multiplicación) con estos valores, a la vez guarde los resultados en un diccionario y finalmente escriba esto en un archivo y guardelo.\n",
        "\n",
        "Ejemplo del return:\n",
        "\n",
        ">Numero de iteraiónes: 2\n",
        ">>a=10,2,b=5,5, Suma=1,0,Multiplicaión=0,1,resta=0,0,Divición=0,0,resultado=15,10"
      ]
    },
    {
      "cell_type": "markdown",
      "metadata": {
        "id": "et7maz9aonU9"
      },
      "source": [
        "**2** Realice el problema del borracho visto en clase en dos dimensiomnes, es decir, que el desplazamiento se de tanto en `x` como en `y` y grafique su desplazamiento. Recuerde que el paso se puede dar en x o en y de forma aleatoria.\n",
        "\n",
        "Ejemplo:\n",
        "![image.png](attachment:image.png)\n"
      ]
    },
    {
      "cell_type": "markdown",
      "metadata": {
        "id": "jBuE64mwonU9"
      },
      "source": [
        "**3** Ahora realice nuevamente el problema del borracho pero esta vez sin restricciones en la dirreccion, es decir, que el haya un ángulo asociado, grafique.\n",
        "\n",
        "Ejemplo:\n",
        "\n",
        "![image.png](attachment:image.png)"
      ]
    },
    {
      "cell_type": "markdown",
      "metadata": {
        "id": "8xKn1WBdonU9"
      },
      "source": [
        "**4** Consulte como graficar en coordenadas polares en matplotlib y uselo para graficar un problema en este sistema y usando las herramientas de matplotlib."
      ]
    }
  ]
}