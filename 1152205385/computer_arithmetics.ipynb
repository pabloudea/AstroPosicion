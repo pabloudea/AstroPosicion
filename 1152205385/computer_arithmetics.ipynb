{
  "nbformat": 4,
  "nbformat_minor": 0,
  "metadata": {
    "colab": {
      "name": "computer-arithmetics.ipynb",
      "provenance": [],
      "collapsed_sections": [],
      "include_colab_link": true
    },
    "kernelspec": {
      "display_name": "Python 3",
      "language": "python",
      "name": "python3"
    },
    "language_info": {
      "codemirror_mode": {
        "name": "ipython",
        "version": 3
      },
      "file_extension": ".py",
      "mimetype": "text/x-python",
      "name": "python",
      "nbconvert_exporter": "python",
      "pygments_lexer": "ipython3",
      "version": "3.7.3"
    },
    "toc": {
      "colors": {
        "hover_highlight": "#DAA520",
        "running_highlight": "#FF0000",
        "selected_highlight": "#FFD700"
      },
      "moveMenuLeft": true,
      "nav_menu": {
        "height": "189px",
        "width": "252px"
      },
      "navigate_menu": true,
      "number_sections": true,
      "sideBar": true,
      "threshold": 4,
      "toc_cell": false,
      "toc_section_display": "block",
      "toc_window_display": false
    }
  },
  "cells": [
    {
      "cell_type": "markdown",
      "metadata": {
        "id": "view-in-github",
        "colab_type": "text"
      },
      "source": [
        "<a href=\"https://colab.research.google.com/github/pabloudea/AstroPosicion/blob/main/1152205385/computer_arithmetics.ipynb\" target=\"_parent\"><img src=\"https://colab.research.google.com/assets/colab-badge.svg\" alt=\"Open In Colab\"/></a>"
      ]
    },
    {
      "cell_type": "markdown",
      "metadata": {
        "id": "K-Y40d7IekWU"
      },
      "source": [
        "<a href=\"https://colab.research.google.com/github/restrepo/ComputationalMethods/blob/master/material/computer-arithmetics.ipynb\" target=\"_parent\"><img src=\"https://colab.research.google.com/assets/colab-badge.svg\" alt=\"Open In Colab\"/></a>\n",
        "\n",
        "# Computer Arithmetics and Round-off Methods\n",
        "\n",
        "Actividades: https://classroom.github.com/a/2v-HnNqn\n",
        "\n",
        "In a symbolic computation programs, implemented in SymPy or Mathematica for example, operatios like $1/3+4/3=5/3$, $2\\times 3/4 = 3/2$, $(\\sqrt{2})^2 = 2$ are unambiguously defined, However, when one numerical programming languages are used to represent numbers in a computer, this is no longer true. The main reason of this is the so-called *finite arithmetic*, what is the way in which a numerical computer programs performs basic operations. Some features of *finite arithmetic* are stated below:\n",
        "\n",
        "- Only integer and rational numbers can be exactly represented.\n",
        "- The elements of the set in which arithmetic is performed is necessarily finite.\n",
        "- Any arithmetic operation between two or more numbers of this set should be another element of the set.\n",
        "- Non-representable numbers like irrational numbers are approximated to the closest rational number within the defined set.\n",
        "- Extremely large numbers produce overflows and extremely small numbers produce underflows, which are taken as null.\n",
        "- Operations over non-representable numbers are not exact.\n",
        "\n",
        "In spite of this, defining adequately the set of elements in which our computer will operate, round-off methods can be systematically neglected, yielding correct results within reasonable error margins. In some pathological cases, when massive iterations are required, these errors must be taken into account more seriously.\n",
        "\n",
        "- - - \n",
        "\n",
        "- [Binary machine numbers](#Binary-machine-numbers)\n",
        "    - [Single-precision numbers](#Single-precision-numbers)\n",
        "    - [Double-precision numbers](#Double-precision-numbers)\n",
        "- [Finite Arithmetic](#Finite-Arithmetic)\n",
        "    - [Addition](#Addition)\n",
        "    - [Multiplication](#Multiplication)\n",
        "\n",
        "- - - "
      ]
    },
    {
      "cell_type": "markdown",
      "metadata": {
        "id": "3lNZDjnu5hOL"
      },
      "source": [
        "## More About Float Values \n",
        "See also [here](https://www.inferentialthinking.com/chapters/04/1/Numbers.html)\n",
        "\n",
        "In Python a float only represents 15 or 16 significant digits for any number; the remaining precision is lost. This limited precision is enough for the vast majority of applications.\n",
        "\n",
        "In the next evaluation extra digits are discarded before any arithmetic is carried out."
      ]
    },
    {
      "cell_type": "code",
      "metadata": {
        "colab": {
          "base_uri": "https://localhost:8080/"
        },
        "id": "v_ZPyqp55hOM",
        "outputId": "09cdf051-ffb1-4310-acdf-9bd718c8c90a"
      },
      "source": [
        "0.6666666666666666 - 0.6666666666666666123456789"
      ],
      "execution_count": 28,
      "outputs": [
        {
          "output_type": "execute_result",
          "data": {
            "text/plain": [
              "0.0"
            ]
          },
          "metadata": {
            "tags": []
          },
          "execution_count": 28
        }
      ]
    },
    {
      "cell_type": "markdown",
      "metadata": {
        "id": "My7-xftj5hOO"
      },
      "source": [
        "After combining float values with arithmetic, the last few digits may be incorrect. Small rounding errors are often confusing when first encountered. For example, the expression `2**0.5` computes the square root of `2`, but squaring this value does not exactly recover `2`."
      ]
    },
    {
      "cell_type": "code",
      "metadata": {
        "colab": {
          "base_uri": "https://localhost:8080/"
        },
        "id": "0Kc8ar2G5hOP",
        "outputId": "a6b40e36-76c9-4c03-e4c6-f1cf5331e009"
      },
      "source": [
        "2**0.5"
      ],
      "execution_count": 29,
      "outputs": [
        {
          "output_type": "execute_result",
          "data": {
            "text/plain": [
              "1.4142135623730951"
            ]
          },
          "metadata": {
            "tags": []
          },
          "execution_count": 29
        }
      ]
    },
    {
      "cell_type": "code",
      "metadata": {
        "colab": {
          "base_uri": "https://localhost:8080/"
        },
        "id": "c3f-gpxM5hOP",
        "outputId": "360129ef-1395-4fc4-a3ad-7a8251d40843"
      },
      "source": [
        "(2**0.5)**2"
      ],
      "execution_count": 30,
      "outputs": [
        {
          "output_type": "execute_result",
          "data": {
            "text/plain": [
              "2.0000000000000004"
            ]
          },
          "metadata": {
            "tags": []
          },
          "execution_count": 30
        }
      ]
    },
    {
      "cell_type": "code",
      "metadata": {
        "colab": {
          "base_uri": "https://localhost:8080/"
        },
        "id": "E2uRjyMe5hOQ",
        "outputId": "f86cb608-305e-4742-f08e-4f89bd048163"
      },
      "source": [
        "(2**0.5)**2 - 2"
      ],
      "execution_count": 31,
      "outputs": [
        {
          "output_type": "execute_result",
          "data": {
            "text/plain": [
              "4.440892098500626e-16"
            ]
          },
          "metadata": {
            "tags": []
          },
          "execution_count": 31
        }
      ]
    },
    {
      "cell_type": "markdown",
      "metadata": {
        "id": "oqZtWoT7jolm"
      },
      "source": [
        "## Binary machine numbers"
      ]
    },
    {
      "cell_type": "markdown",
      "metadata": {
        "id": "7z0MWgOrjuO2"
      },
      "source": [
        "We will obtain the general algorithm to obtain the binary r"
      ]
    },
    {
      "cell_type": "markdown",
      "metadata": {
        "id": "6YcTBJivis_R"
      },
      "source": [
        "### Integers"
      ]
    },
    {
      "cell_type": "markdown",
      "metadata": {
        "id": "74bewmHTixif"
      },
      "source": [
        "From [here](https://www.techcareerbooster.com/blog/binary-representation-of-an-integer): If you recall your mathematics, then it will be easy for you to find out how we turn an integer number to its binary representation. Let's take for example the number 47. (see '//' operator [here](https://stackoverflow.com/a/1535601))\n",
        "\n",
        "\n",
        "1. We divide 47 by 2. The quotient is `int(47//2) → 23` and the remainder is `47%2 → 1`\n",
        "2. We divide the quotient of the previous step by 2. The new quotient is `int(23//2) → 11` and the remainder is `23%2 → 1`.\n",
        "3. We divide the quotient of the previous step by 2. The new quotient is `int(11/2) → 5` and the remainder is `11%2 → 1`.\n",
        "5. We divide the quotient of the previous step by 2. The new quotient is `int(5//2) → 2` and the remainder is `5%2 → 1`.\n",
        "6. We divide the quotient of the previous step by 2. The new quotient is `int(2//2) → 1` and the remainder is `2%2 → 0`.\n",
        "7. We divide the quotient of the previous step by 2. The new quotient is `int(1//2) → 0` and the remainder is `1%2 → 1`\n",
        "8. We stop here, when the last quotient is `1//2→0`.\n",
        "\n",
        "Then, the binary representation is the series of __1__s and __0__s of the remainders, taken in reverse order to the one produced, from latest to earliest: __101111__.\n",
        "<!-- https://www.geeksforgeeks.org/bin-in-python/ -->"
      ]
    },
    {
      "cell_type": "markdown",
      "metadata": {
        "id": "NieG9Hn5lp0v"
      },
      "source": [
        "__Activity__: Implement a function that get the binary representation of an integer. "
      ]
    },
    {
      "cell_type": "markdown",
      "metadata": {
        "id": "Vn7Cusk5orMc"
      },
      "source": [
        "__Activity__: Return as a string with 8 charactes completed with leading zeroes. Use the string method: `.rjust(8,\"0\")`"
      ]
    },
    {
      "cell_type": "code",
      "metadata": {
        "colab": {
          "base_uri": "https://localhost:8080/"
        },
        "id": "I9fnu-yUPU9K",
        "outputId": "7b1df9cb-d572-4f8c-9fc1-0968c51f8f84"
      },
      "source": [
        "#!/usr/bin/env python3\n",
        "def dec2bin(x):\n",
        "  s = ''\n",
        "  while x >= 1:\n",
        "    s += str(x%2)\n",
        "    x = x//2\n",
        "  return s[::-1].rjust(8,\"0\")\n",
        "\n",
        "if __name__=='__main__':\n",
        "    n=input('Escriba un entero:\\n')\n",
        "    b=dec2bin(int(n))\n",
        "    print('Su representación binaria es: {}'.format(b))\n"
      ],
      "execution_count": 31,
      "outputs": [
        {
          "output_type": "stream",
          "text": [
            "Escriba un entero:\n",
            "32\n",
            "Su representación binaria es: 00100000\n"
          ],
          "name": "stdout"
        }
      ]
    },
    {
      "cell_type": "markdown",
      "metadata": {
        "id": "WCU8B-h1A2Pq"
      },
      "source": [
        "__Activity__ Write your function in the following format"
      ]
    },
    {
      "cell_type": "code",
      "metadata": {
        "colab": {
          "base_uri": "https://localhost:8080/"
        },
        "id": "uWQRFBj05hOT",
        "outputId": "31febc2c-25bf-4327-ed1d-d46dbd58f409"
      },
      "source": [
        "1//2"
      ],
      "execution_count": 9,
      "outputs": [
        {
          "output_type": "execute_result",
          "data": {
            "text/plain": [
              "0"
            ]
          },
          "metadata": {
            "tags": []
          },
          "execution_count": 9
        }
      ]
    },
    {
      "cell_type": "code",
      "metadata": {
        "colab": {
          "base_uri": "https://localhost:8080/"
        },
        "id": "aP1xnAWrBfRp",
        "outputId": "9f46a46f-42ed-4ad4-b91e-cdc6d835ba36"
      },
      "source": [
        "#!/usr/bin/env python3\n",
        "def mybin(x):\n",
        "    print('__name__ = {}'.format(__name__))\n",
        "    #Write your code here and change the next line as required\n",
        "    return bin(x)[2:].rjust(8, \"0\")\n",
        "if __name__=='__main__':\n",
        "    n=input('Escriba un entero:\\n')\n",
        "    b=mybin(int(n))\n",
        "    print('Su representación binaria es: {}'.format(b))"
      ],
      "execution_count": 11,
      "outputs": [
        {
          "output_type": "stream",
          "text": [
            "Escriba un entero:\n",
            "32\n",
            "__name__ = __main__\n",
            "Su representación binaria es: 00100000\n"
          ],
          "name": "stdout"
        }
      ]
    },
    {
      "cell_type": "markdown",
      "metadata": {
        "id": "C9-H4KqgBpg2"
      },
      "source": [
        "The advantage of this standard format is that can be used directly as a python module, because in that case the variable `__name__` evaluates to the name\n",
        "of the function. To check this, we first use a cell of the notebook just as a editor with the Jupyter magic function `%%writefile`"
      ]
    },
    {
      "cell_type": "code",
      "metadata": {
        "colab": {
          "base_uri": "https://localhost:8080/"
        },
        "id": "ZVgjNnOfSDp0",
        "outputId": "65ebe2e8-aae9-45df-cb4c-1da12679586b"
      },
      "source": [
        "%%writefile mybin.py\n",
        "#!/usr/bin/env python3\n",
        "def dec2bin(x):\n",
        "  s = ''\n",
        "  while x >= 1:\n",
        "    s += str(x%2)\n",
        "    x = x//2\n",
        "  return s[::-1].rjust(8,\"0\")\n",
        "\n",
        "if __name__=='__main__':\n",
        "    n=input('Escriba un entero:\\n')\n",
        "    b=dec2bin(int(n))\n",
        "    print('Su representación binaria es: {}'.format(b))\n"
      ],
      "execution_count": 32,
      "outputs": [
        {
          "output_type": "stream",
          "text": [
            "Overwriting mybin.py\n"
          ],
          "name": "stdout"
        }
      ]
    },
    {
      "cell_type": "markdown",
      "metadata": {
        "id": "8F0OTamOSLfO"
      },
      "source": [
        "We now can use the full contents of the file as an usual python module, it it is\n",
        "in the working directory"
      ]
    },
    {
      "cell_type": "code",
      "metadata": {
        "colab": {
          "base_uri": "https://localhost:8080/",
          "height": 35
        },
        "id": "bXohCqmKSY7r",
        "outputId": "4f1c9598-44b6-40cc-e179-c5d5989c92a3"
      },
      "source": [
        "import mybin\n",
        "mybin.dec2bin(45)"
      ],
      "execution_count": 33,
      "outputs": [
        {
          "output_type": "execute_result",
          "data": {
            "application/vnd.google.colaboratory.intrinsic+json": {
              "type": "string"
            },
            "text/plain": [
              "'00101101 '"
            ]
          },
          "metadata": {
            "tags": []
          },
          "execution_count": 33
        }
      ]
    },
    {
      "cell_type": "code",
      "metadata": {
        "id": "s5uBqKH8ScVm"
      },
      "source": [
        "while here, or in a terminal:"
      ],
      "execution_count": null,
      "outputs": []
    },
    {
      "cell_type": "code",
      "metadata": {
        "colab": {
          "base_uri": "https://localhost:8080/",
          "height": 35
        },
        "id": "vaQ2zBdp5hOW",
        "outputId": "41f67426-805a-42af-9cc8-1ecd1e989b46"
      },
      "source": [
        "__name__"
      ],
      "execution_count": 16,
      "outputs": [
        {
          "output_type": "execute_result",
          "data": {
            "application/vnd.google.colaboratory.intrinsic+json": {
              "type": "string"
            },
            "text/plain": [
              "'__main__'"
            ]
          },
          "metadata": {
            "tags": []
          },
          "execution_count": 16
        }
      ]
    },
    {
      "cell_type": "markdown",
      "metadata": {
        "id": "kWhR37BchYaJ"
      },
      "source": [
        "Check with `bin`"
      ]
    },
    {
      "cell_type": "markdown",
      "metadata": {
        "id": "nJiWGP8AgX27"
      },
      "source": [
        "The binary representation of a float in 32 bits done by the following steps"
      ]
    },
    {
      "cell_type": "code",
      "metadata": {
        "colab": {
          "base_uri": "https://localhost:8080/",
          "height": 35
        },
        "id": "YbrDjH0-hEhp",
        "outputId": "8cd1cbff-c0fd-4ad4-f711-1fb2b1fd9251"
      },
      "source": [
        "bin(47)"
      ],
      "execution_count": 34,
      "outputs": [
        {
          "output_type": "execute_result",
          "data": {
            "application/vnd.google.colaboratory.intrinsic+json": {
              "type": "string"
            },
            "text/plain": [
              "'0b101111'"
            ]
          },
          "metadata": {
            "tags": []
          },
          "execution_count": 34
        }
      ]
    },
    {
      "cell_type": "markdown",
      "metadata": {
        "id": "5eDFv2B2u_ME"
      },
      "source": [
        "The format is not the standard one. We need dropt the firs '0b'"
      ]
    },
    {
      "cell_type": "code",
      "metadata": {
        "colab": {
          "base_uri": "https://localhost:8080/",
          "height": 35
        },
        "id": "vumsZnjDvV9Y",
        "outputId": "da238b7e-fa1a-423b-8041-ad09ccd5750a"
      },
      "source": [
        "bin(47)[2:]"
      ],
      "execution_count": 35,
      "outputs": [
        {
          "output_type": "execute_result",
          "data": {
            "application/vnd.google.colaboratory.intrinsic+json": {
              "type": "string"
            },
            "text/plain": [
              "'101111'"
            ]
          },
          "metadata": {
            "tags": []
          },
          "execution_count": 35
        }
      ]
    },
    {
      "cell_type": "markdown",
      "metadata": {
        "id": "wp2bXTD8vfKo"
      },
      "source": [
        "We must enforce the 8 bits representation by padding any additional leading zeroes"
      ]
    },
    {
      "cell_type": "code",
      "metadata": {
        "colab": {
          "base_uri": "https://localhost:8080/",
          "height": 35
        },
        "id": "uVJtGrt2v61F",
        "outputId": "df97b4b7-dd27-4974-e39d-9d1acc6d28c5"
      },
      "source": [
        "bin(47)[2:].rjust(8, '0')"
      ],
      "execution_count": 36,
      "outputs": [
        {
          "output_type": "execute_result",
          "data": {
            "application/vnd.google.colaboratory.intrinsic+json": {
              "type": "string"
            },
            "text/plain": [
              "'00101111'"
            ]
          },
          "metadata": {
            "tags": []
          },
          "execution_count": 36
        }
      ]
    },
    {
      "cell_type": "markdown",
      "metadata": {
        "id": "_MAeRxAGwCA1"
      },
      "source": [
        "To convert a binary into the integer we can use the `int` function with `base=0` upont the proper Python formatted string, starting with: <font color='red'>`0b`</font>"
      ]
    },
    {
      "cell_type": "code",
      "metadata": {
        "colab": {
          "base_uri": "https://localhost:8080/"
        },
        "id": "uw7yxC8HwNqV",
        "outputId": "c417135e-8467-4d49-b713-50c73ae75792"
      },
      "source": [
        "int('0b101111',base=0)"
      ],
      "execution_count": 37,
      "outputs": [
        {
          "output_type": "execute_result",
          "data": {
            "text/plain": [
              "47"
            ]
          },
          "metadata": {
            "tags": []
          },
          "execution_count": 37
        }
      ]
    },
    {
      "cell_type": "markdown",
      "metadata": {
        "id": "bN5y4Kinw-eY"
      },
      "source": [
        "or with any number of padding zeroes in between"
      ]
    },
    {
      "cell_type": "code",
      "metadata": {
        "colab": {
          "base_uri": "https://localhost:8080/"
        },
        "id": "9iQptjEnwigI",
        "outputId": "6a55f7ee-89d6-4ad1-8d93-ef94cb4010d0"
      },
      "source": [
        "int('0b0000000101111',base=0)"
      ],
      "execution_count": 38,
      "outputs": [
        {
          "output_type": "execute_result",
          "data": {
            "text/plain": [
              "47"
            ]
          },
          "metadata": {
            "tags": []
          },
          "execution_count": 38
        }
      ]
    },
    {
      "cell_type": "markdown",
      "metadata": {
        "id": "GlLaeJuYekWV"
      },
      "source": [
        "### Floats\n",
        "Floats in 32 bits are representated trough 4 8-bit integers.\n",
        "\n",
        "The processes of obtain the binary representation for a float can be complicated because the design used to really  store the number  in one specific programming language like Python. In fact, from https://stackoverflow.com/a/16444778/2268280:"
      ]
    },
    {
      "cell_type": "markdown",
      "metadata": {
        "id": "yg8dpA8M0X_o"
      },
      "source": [
        "* To obtain the four integers associated to a real number we need first to ask for the packed structure : `'!'`, in 32 bits: `'f'`, with the full string `'!f'` as"
      ]
    },
    {
      "cell_type": "code",
      "metadata": {
        "colab": {
          "base_uri": "https://localhost:8080/"
        },
        "id": "JFXl8fYT0m5f",
        "outputId": "8210692d-4abb-4dbb-e89e-1fd7b20f6873"
      },
      "source": [
        "import struct\n",
        "packed=struct.pack('!f',0.15625)\n",
        "packed"
      ],
      "execution_count": 39,
      "outputs": [
        {
          "output_type": "execute_result",
          "data": {
            "text/plain": [
              "b'> \\x00\\x00'"
            ]
          },
          "metadata": {
            "tags": []
          },
          "execution_count": 39
        }
      ]
    },
    {
      "cell_type": "markdown",
      "metadata": {
        "id": "DF1X9-Q_1jj0"
      },
      "source": [
        "This is a packed Python list with the four integers inside"
      ]
    },
    {
      "cell_type": "code",
      "metadata": {
        "colab": {
          "base_uri": "https://localhost:8080/"
        },
        "id": "gLnTvnAQ1riZ",
        "outputId": "e789165d-4717-46e9-fd9a-cfd70576d2a3"
      },
      "source": [
        "[n for n in packed]"
      ],
      "execution_count": 40,
      "outputs": [
        {
          "output_type": "execute_result",
          "data": {
            "text/plain": [
              "[62, 32, 0, 0]"
            ]
          },
          "metadata": {
            "tags": []
          },
          "execution_count": 40
        }
      ]
    },
    {
      "cell_type": "markdown",
      "metadata": {
        "id": "fUv2SZWO14nY"
      },
      "source": [
        "Using the previous function to convert into a list of 8-bit strings"
      ]
    },
    {
      "cell_type": "code",
      "metadata": {
        "colab": {
          "base_uri": "https://localhost:8080/"
        },
        "id": "7Sd2oDWN7V2v",
        "outputId": "0d89fc66-c242-446a-fd37-dbc728cd13a7"
      },
      "source": [
        "lb=[ dec2bin(n) for n in packed]\n",
        "lb"
      ],
      "execution_count": 41,
      "outputs": [
        {
          "output_type": "execute_result",
          "data": {
            "text/plain": [
              "['00111110', '00100000', '00000000', '00000000']"
            ]
          },
          "metadata": {
            "tags": []
          },
          "execution_count": 41
        }
      ]
    },
    {
      "cell_type": "markdown",
      "metadata": {
        "id": "VxjOcP8A-eK4"
      },
      "source": [
        "The float representation is just the string formed with the four binaries"
      ]
    },
    {
      "cell_type": "code",
      "metadata": {
        "colab": {
          "base_uri": "https://localhost:8080/",
          "height": 35
        },
        "id": "X_jfXrTo_fFQ",
        "outputId": "286ec21a-27e8-45d9-9129-3ea5313d9b1c"
      },
      "source": [
        "''.join(lb)"
      ],
      "execution_count": 42,
      "outputs": [
        {
          "output_type": "execute_result",
          "data": {
            "application/vnd.google.colaboratory.intrinsic+json": {
              "type": "string"
            },
            "text/plain": [
              "'00111110001000000000000000000000'"
            ]
          },
          "metadata": {
            "tags": []
          },
          "execution_count": 42
        }
      ]
    },
    {
      "cell_type": "markdown",
      "metadata": {
        "id": "eptuC0Nk_qXZ"
      },
      "source": [
        "![32-bits](http://upload.wikimedia.org/wikipedia/commons/thumb/d/d2/Float_example.svg/590px-Float_example.svg.png)"
      ]
    },
    {
      "cell_type": "markdown",
      "metadata": {
        "id": "KL8J_d0y7jNI"
      },
      "source": [
        "#### Full implementation"
      ]
    },
    {
      "cell_type": "code",
      "metadata": {
        "id": "JaBoHSiAekWW"
      },
      "source": [
        "import struct\n",
        "\n",
        "def binary(num):\n",
        "#num=3\n",
        "#if True:\n",
        "    # Struct can provide us with the float packed into bytes. The '!' ensures that\n",
        "    # it's in network byte order (big-endian) and the 'f' says that it should be\n",
        "    # packed as a float: 32 bites. Alternatively, for double-precision, you could use 'd'.\n",
        "    packed = struct.pack('!f', num)\n",
        "    print( 'Packed: %s' % repr(packed))\n",
        "\n",
        "    # For each character in the returned string, we'll turn it into its corresponding\n",
        "    # integer code point\n",
        "    # \n",
        "    integers = [c for c in packed]\n",
        "    print( 'Integers: %s' % integers)\n",
        "\n",
        "    # For each integer, we'll convert it to its binary representation.\n",
        "    binaries = [bin(i) for i in integers]\n",
        "    print( 'Binaries: %s' % binaries)\n",
        "\n",
        "    # Now strip off the '0b' from each of these\n",
        "    stripped_binaries = [s.replace('0b', '') for s in binaries]\n",
        "    print( 'Stripped: %s' % stripped_binaries)\n",
        "\n",
        "    # Pad each byte's binary representation's with 0's to make sure it has all 8 bits:\n",
        "    #\n",
        "    # ['00111110', '10100011', '11010111', '00001010']\n",
        "    padded = [s.rjust(8, '0') for s in stripped_binaries]\n",
        "    print( 'Padded: %s' % padded)\n",
        "\n",
        "    # At this point, we have each of the bytes for the network byte ordered float\n",
        "    # in an array as binary strings. Now we just concatenate them to get the total\n",
        "    # representation of the float:\n",
        "    return ''.join(padded)"
      ],
      "execution_count": 43,
      "outputs": []
    },
    {
      "cell_type": "code",
      "metadata": {
        "colab": {
          "base_uri": "https://localhost:8080/",
          "height": 126
        },
        "id": "Og6bGmhVekWZ",
        "outputId": "da4178aa-c08a-4173-ba45-dae924558494"
      },
      "source": [
        "BIN=binary(0.15625)\n",
        "BIN"
      ],
      "execution_count": 44,
      "outputs": [
        {
          "output_type": "stream",
          "text": [
            "Packed: b'> \\x00\\x00'\n",
            "Integers: [62, 32, 0, 0]\n",
            "Binaries: ['0b111110', '0b100000', '0b0', '0b0']\n",
            "Stripped: ['111110', '100000', '0', '0']\n",
            "Padded: ['00111110', '00100000', '00000000', '00000000']\n"
          ],
          "name": "stdout"
        },
        {
          "output_type": "execute_result",
          "data": {
            "application/vnd.google.colaboratory.intrinsic+json": {
              "type": "string"
            },
            "text/plain": [
              "'00111110001000000000000000000000'"
            ]
          },
          "metadata": {
            "tags": []
          },
          "execution_count": 44
        }
      ]
    },
    {
      "cell_type": "markdown",
      "metadata": {
        "id": "G6Nycj-cekWc"
      },
      "source": [
        "![32-bits](http://upload.wikimedia.org/wikipedia/commons/thumb/d/d2/Float_example.svg/590px-Float_example.svg.png)"
      ]
    },
    {
      "cell_type": "code",
      "metadata": {
        "colab": {
          "base_uri": "https://localhost:8080/",
          "height": 35
        },
        "id": "KqAdhGWWekWd",
        "outputId": "d6e70d6b-f150-447c-df1b-1c911a04c753"
      },
      "source": [
        "''.join( list(BIN)[::-1] ) #inverted list joined into a string"
      ],
      "execution_count": 45,
      "outputs": [
        {
          "output_type": "execute_result",
          "data": {
            "application/vnd.google.colaboratory.intrinsic+json": {
              "type": "string"
            },
            "text/plain": [
              "'00000000000000000000010001111100'"
            ]
          },
          "metadata": {
            "tags": []
          },
          "execution_count": 45
        }
      ]
    },
    {
      "cell_type": "markdown",
      "metadata": {
        "id": "siRJmwCAekWg"
      },
      "source": [
        "## Binary machine numbers    "
      ]
    },
    {
      "cell_type": "markdown",
      "metadata": {
        "id": "9gyrlmVDekWh"
      },
      "source": [
        "As everyone knows, the base of the modern computation is the binary numbers. The binary base or base-2 numeral system is the simplest one among the existing numeral bases. As every electronic devices are based on logic circuits (circuits operating with [logic gates](#LogicGates)), the implementation of a binary base is straightforward, besides, any other numeral system can be reduced to a binary representation.\n",
        "\n",
        "![LogicGates](http://www.ee.surrey.ac.uk/Projects/CAL/digital-logic/gatesfunc/graphics/symtab.gif)\n",
        "\n",
        "According to the standard [IEEE 754-2008](http://en.wikipedia.org/wiki/IEEE_floating_point), representation of real numbers can be done in several ways, [single-precision](http://en.wikipedia.org/wiki/Single-precision_floating-point_format) and [double precision](http://en.wikipedia.org/wiki/Double-precision_floating-point_format) are the most used ones."
      ]
    },
    {
      "cell_type": "markdown",
      "metadata": {
        "id": "mTaL_rTLekWh"
      },
      "source": [
        "### Single-precision numbers"
      ]
    },
    {
      "cell_type": "markdown",
      "metadata": {
        "id": "i0TqQpJuekWi"
      },
      "source": [
        "Single-precision numbers are used when one does not need very accurate results and/or need to save memory. These numbers are represented by a **32-bits** (Binary digIT) lenght binary number, where the real number is stored following the next rules:\n",
        "\n",
        "![32-bits](http://upload.wikimedia.org/wikipedia/commons/thumb/d/d2/Float_example.svg/590px-Float_example.svg.png)\n",
        "\n",
        "1. The fist digit (called *s*) indicates the sign of the number (s=0 means a positive number, s=1 a negative one).\n",
        "2. The next 8 bits represent the exponent of the number.\n",
        "3. The last 23 bits represent the fractional part of the number.\n",
        "\n",
        "The formula for recovering the real number is then given by:\n",
        "\n",
        "$$r = \\frac{(-1)^s}{2^{127-e}} \\left( 1 + \\sum_{i=0}^{22}\\frac{b_{i}}{2^{23-i}} \\right)$$\n",
        "\n",
        "where $s$ is the sign, $b_{23-i}$ the fraction bits and $e$ is given by:\n",
        "\n",
        "$$e = \\sum_{i=0}^7 b_{23+i}2^i$$\n",
        "\n",
        "Next, it is shown a little routine for calculating the value of the represented 32-bits number"
      ]
    },
    {
      "cell_type": "markdown",
      "metadata": {
        "id": "2ycxeSJCekWj"
      },
      "source": [
        "### ACTIVITY\n",
        "With the binary representation please try to implement the formula to recover the number.\n",
        "\n",
        "__Hint__: Use as input the binary representation as a string and invert its order"
      ]
    },
    {
      "cell_type": "markdown",
      "metadata": {
        "id": "sjxwZuwYekWk"
      },
      "source": [
        "__SOLUTION__:"
      ]
    },
    {
      "cell_type": "markdown",
      "metadata": {
        "id": "gDTO3_OqekWl"
      },
      "source": [
        "The goal of this course is try to implement all the algorithms in terms of array operations, instead of use the loops of Pyhton like the `for` loop.\n",
        "\n",
        "In this way, we need to interpret the formula in terms of  arrays operations. If we manage to achieve that, then NumPy will be take care of the internal loops, which are much faster than the Python loops. As a bonus, the code is more compact and readable.\n",
        "\n",
        "For example:\n",
        "\n",
        "\\begin{align}\n",
        "\\sum_{i=0}^{22}\\frac{b_{i}}{2^{23-i}}=&\\frac{b[0]}{2^{23}}+\\frac{b[1]}{2^{22}}\n",
        " +\\cdots +\\frac{b[21]}{2^2}+\\frac{b[22]}{2^1}\\nonumber\\\\\n",
        "=&\\frac{b}{2^{[23,22,...,1]}}.\\operatorname{sum()}\\nonumber\\\\\n",
        "=&\\frac{b}{2^{[1,2,...,23][::-1]}}.\\operatorname{sum()}\n",
        "\\end{align}\n",
        "\n",
        "To implement the full formula:\n",
        "$$r = \\frac{(-1)^s}{2^{127-e}} \\left( 1 + \\sum_{i=0}^{22}\\frac{b_{i}}{2^{23-i}} \\right)$$\n",
        "with \n",
        "$$e = \\sum_{i=0}^7 b_{23+i}2^i$$\n",
        "\n",
        "$$e_{\\text{max}} = \\sum_{i=0}^7 2^i$$\n",
        "\n",
        "Note that \n",
        "we have"
      ]
    },
    {
      "cell_type": "code",
      "metadata": {
        "id": "4FfRykO2ekWm"
      },
      "source": [
        "import numpy as np\n",
        "def number32(BIN):\n",
        "#if True:\n",
        "    #BIN='00111110001000000000000000000000'\n",
        "    #Inverting binary string\n",
        "    b_inverted=np.array(list(BIN)[::-1]).astype(int)\n",
        "    \n",
        "    s=b_inverted[31]\n",
        "    #Exponent part\n",
        "    be=b_inverted[23:31]\n",
        "    i=np.arange(be.size)\n",
        "    e=(be*(2**i)).sum()\n",
        "    \n",
        "    bf=b_inverted[0:23]\n",
        "    i_inverted=np.arange(1,bf.size+1)[::-1]\n",
        "\n",
        "\n",
        "    numero=( (-1)**s/2**(127-e)  )*( 1 + (bf/2**i_inverted).sum() ) \n",
        "    return numero"
      ],
      "execution_count": 52,
      "outputs": []
    },
    {
      "cell_type": "code",
      "metadata": {
        "colab": {
          "base_uri": "https://localhost:8080/"
        },
        "id": "mWbfh4NbekWo",
        "scrolled": true,
        "outputId": "5fdda631-97f9-47ae-99d8-cd6c4d113bbb"
      },
      "source": [
        "print(number32('00111110001000000000000000000000'))"
      ],
      "execution_count": 53,
      "outputs": [
        {
          "output_type": "stream",
          "text": [
            "0.15625\n"
          ],
          "name": "stdout"
        }
      ]
    },
    {
      "cell_type": "markdown",
      "metadata": {
        "id": "9psQnJf6ekWq"
      },
      "source": [
        "Check aginst the implementation with `for`'s"
      ]
    },
    {
      "cell_type": "code",
      "metadata": {
        "id": "ANxSuuvyekWr"
      },
      "source": [
        "# %load numtobin.py\n",
        "def num32( binary ):\n",
        "    #Inverting binary string\n",
        "    binary = binary[::-1]\n",
        "    s=binary[31]\n",
        "    #Decimal part\n",
        "    dec = 1\n",
        "    for i in range(1,24):\n",
        "        dec += int(binary[23-i])*2**-i\n",
        "    #Exponent part\n",
        "    exp = 0\n",
        "    for i in range(0,8):\n",
        "        exp += int(binary[23+i])*2**i\n",
        "    #Total number\n",
        "    number =( (-1)**int(s)/2**(127-exp) )*dec\n",
        "    return number"
      ],
      "execution_count": 54,
      "outputs": []
    },
    {
      "cell_type": "code",
      "metadata": {
        "colab": {
          "base_uri": "https://localhost:8080/"
        },
        "id": "IUlLc8yjekWu",
        "outputId": "ee8a0f7a-38c2-4511-b8c0-85933bb438e5"
      },
      "source": [
        "print(num32('00111110001000000000000000000000'))"
      ],
      "execution_count": 55,
      "outputs": [
        {
          "output_type": "stream",
          "text": [
            "0.15625\n"
          ],
          "name": "stdout"
        }
      ]
    },
    {
      "cell_type": "markdown",
      "metadata": {
        "id": "_XvzBid9ekWw"
      },
      "source": [
        "%load sln.py"
      ]
    },
    {
      "cell_type": "markdown",
      "metadata": {
        "id": "WJr54n_TekWx"
      },
      "source": [
        "Single-precision system can represent real numbers within the interval $\\pm 10^{-38} \\cdots 10^{38}$, with $7-8$ decimal digits."
      ]
    },
    {
      "cell_type": "code",
      "metadata": {
        "colab": {
          "base_uri": "https://localhost:8080/"
        },
        "id": "rFsolRCzekWx",
        "outputId": "d4f8db4d-6f91-42f9-b1c7-e05cc34f94d6"
      },
      "source": [
        "#Decimal digits \n",
        "print(\"\\n\")\n",
        "print( \"Decimal digits contributions for single precision number\")\n",
        "print( 2**-23., 2**-15., 2**-5. , \"\\n\")\n",
        "\n",
        "#Largest and smallest exponent  \n",
        "emax = 0 \n",
        "for i in range(0,8):\n",
        "    emax += 2**i\n",
        "print( \"Largest and smallest exponent for single precision number\" )\n",
        "print( 2**(emax-127.), 2**(-127.),\"\\n\" )"
      ],
      "execution_count": 56,
      "outputs": [
        {
          "output_type": "stream",
          "text": [
            "\n",
            "\n",
            "Decimal digits contributions for single precision number\n",
            "1.1920928955078125e-07 3.0517578125e-05 0.03125 \n",
            "\n",
            "Largest and smallest exponent for single precision number\n",
            "3.402823669209385e+38 5.877471754111438e-39 \n",
            "\n"
          ],
          "name": "stdout"
        }
      ]
    },
    {
      "cell_type": "markdown",
      "metadata": {
        "id": "8qJB0mI5ekW0"
      },
      "source": [
        "### Double-precision numbers"
      ]
    },
    {
      "cell_type": "markdown",
      "metadata": {
        "id": "Dvz9JGLvekW0"
      },
      "source": [
        "Double-precision numbers are used when high accuracy is required. These numbers are represented by a **64-bits** (Binary digIT) lenght binary number, where the real number is stored following the next rules:\n",
        "\n",
        "![64-bits](http://upload.wikimedia.org/wikipedia/commons/thumb/a/a9/IEEE_754_Double_Floating_Point_Format.svg/618px-IEEE_754_Double_Floating_Point_Format.svg.png)\n",
        "\n",
        "1. The fist digit (called *s*) indicates the sign of the number (s=0 means a positive number, s=1 a negative one).\n",
        "2. The next 11 bits represent the exponent of the number.\n",
        "3. The last  bits represent the fractional part of the number.\n",
        "\n",
        "The formula for recovering the real number is then given by:\n",
        "\n",
        "$$r = (-1)^s\\times \\left( 1 + \\sum_{i=1}^{52}b_{52-i}2^{-i} \\right)\\times 2^{e-1023}$$\n",
        "\n",
        "where $s$ is the sign, $b_{23-i}$ the fraction bits and $e$ is given by:\n",
        "\n",
        "$$e = \\sum_{i=0}^{10} b_{52+i}2^i$$\n",
        "\n",
        "Double-precision system can represent real numbers within the interval $\\pm 10^{-308} \\cdots 10^{308}$, with $16-17$ decimal digits."
      ]
    },
    {
      "cell_type": "code",
      "metadata": {
        "colab": {
          "base_uri": "https://localhost:8080/"
        },
        "id": "y0Dz293n5hOk",
        "outputId": "0f2b6d58-2565-4bf6-882a-2a6aca74160d"
      },
      "source": [
        "1e307 * 10"
      ],
      "execution_count": 57,
      "outputs": [
        {
          "output_type": "execute_result",
          "data": {
            "text/plain": [
              "1e+308"
            ]
          },
          "metadata": {
            "tags": []
          },
          "execution_count": 57
        }
      ]
    },
    {
      "cell_type": "code",
      "metadata": {
        "colab": {
          "base_uri": "https://localhost:8080/"
        },
        "id": "qrArXTkv5hOl",
        "outputId": "5b456afd-adec-4302-80b1-b413565cbdbf"
      },
      "source": [
        "1e307 * 20"
      ],
      "execution_count": 58,
      "outputs": [
        {
          "output_type": "execute_result",
          "data": {
            "text/plain": [
              "inf"
            ]
          },
          "metadata": {
            "tags": []
          },
          "execution_count": 58
        }
      ]
    },
    {
      "cell_type": "code",
      "metadata": {
        "colab": {
          "base_uri": "https://localhost:8080/"
        },
        "id": "id7VeiAZ5hOl",
        "outputId": "e0ac3e15-193c-4829-aac3-5f9909cf24c9"
      },
      "source": [
        "1e-323"
      ],
      "execution_count": 59,
      "outputs": [
        {
          "output_type": "execute_result",
          "data": {
            "text/plain": [
              "1e-323"
            ]
          },
          "metadata": {
            "tags": []
          },
          "execution_count": 59
        }
      ]
    },
    {
      "cell_type": "code",
      "metadata": {
        "colab": {
          "base_uri": "https://localhost:8080/"
        },
        "id": "oqYjuNJM5hOl",
        "outputId": "51c750fc-fdc3-4b45-d592-43951e7c9a2c"
      },
      "source": [
        "1e-324"
      ],
      "execution_count": 60,
      "outputs": [
        {
          "output_type": "execute_result",
          "data": {
            "text/plain": [
              "0.0"
            ]
          },
          "metadata": {
            "tags": []
          },
          "execution_count": 60
        }
      ]
    },
    {
      "cell_type": "markdown",
      "metadata": {
        "id": "Frp255HEekW1"
      },
      "source": [
        "### **ACTIVITY**\n",
        "\n",
        "**1.** Write a python script that calculates the double precision number represented by a 64-bits binary.\n",
        "\n",
        "    \n",
        "**2.** What is the number represented by:\n",
        "\n",
        "0 10000000011 1011100100001111111111111111111111111111111111111111\n",
        "\n",
        "<font color='white'>\n",
        "    **ANSWER:**  27.56640625"
      ]
    },
    {
      "cell_type": "code",
      "metadata": {
        "id": "Ml_1bH6uiHXe"
      },
      "source": [
        "import numpy as np\n",
        "def number64(BIN):\n",
        "    #Inverting binary string\n",
        "    b_inverted=np.array(list(BIN)[::-1]).astype(int)\n",
        "    \n",
        "    s=b_inverted[63]\n",
        "    #Exponent part\n",
        "    be=b_inverted[52:63]\n",
        "    i=np.arange(be.size)\n",
        "    e=(be*(2**i)).sum()\n",
        "    \n",
        "    bf=b_inverted[0:52]\n",
        "    i_inverted=np.arange(1,bf.size+1)[::-1]\n",
        "\n",
        "    numero=( (-1)**s * 2**(e-1023)  )*( 1 + (bf/2**i_inverted).sum() ) \n",
        "    return numero"
      ],
      "execution_count": 75,
      "outputs": []
    },
    {
      "cell_type": "code",
      "metadata": {
        "colab": {
          "base_uri": "https://localhost:8080/"
        },
        "id": "f9SUqAhpkknp",
        "outputId": "29b485ba-3b59-4fe5-e79c-2b69717ccd4a"
      },
      "source": [
        "number64('0100000000111011100100001111111111111111111111111111111111111111')\n"
      ],
      "execution_count": 82,
      "outputs": [
        {
          "output_type": "execute_result",
          "data": {
            "text/plain": [
              "27.566406249999996"
            ]
          },
          "metadata": {
            "tags": []
          },
          "execution_count": 82
        }
      ]
    },
    {
      "cell_type": "markdown",
      "metadata": {
        "id": "PuIokoT9ekW2"
      },
      "source": [
        "## Finite Arithmetic"
      ]
    },
    {
      "cell_type": "markdown",
      "metadata": {
        "id": "4W64J6WhekW2"
      },
      "source": [
        "The most basic arithmetic operations are addition and multiplication. Further operations such as subtraction, division and power are secondary as they can be reached by iteratively use the latter ones."
      ]
    },
    {
      "cell_type": "markdown",
      "metadata": {
        "id": "EMlWF2h_ekW3"
      },
      "source": [
        "### Addition"
      ]
    },
    {
      "cell_type": "markdown",
      "metadata": {
        "id": "BXt1BtnPekW4"
      },
      "source": [
        "<!-- As mentioned before, arithmetic operations are not exact in a computer due to the inherent limitations in number representing. Even when adding two already approximate numbers, say a single-precision couple of numbers, the result may not be a representable number, being necessary to apply approximation rules.\n",
        "```python\n",
        "N = 9\n",
        "xe=0; x = 0; \n",
        "for i in range(N):\n",
        "    xe += np.float(1.0/N)\n",
        "    x += np.float16(1.0/N)\n",
        "print('expected: {}; obtained: {}'.format(xe,x))\n",
        "xe\n",
        "```\n",
        "Note that the sucessive application of rounded-off numbers produces a final result less precise.\n",
        "```python\n",
        "print( \"5/7\".format( np.float32(5/7.) ) )\n",
        "print( \"1/3\", np.float32(1/3.) )\n",
        "print( np.float32(5/7.+1/3.), 22/21. )\n",
        "```\n",
        "-->"
      ]
    },
    {
      "cell_type": "code",
      "metadata": {
        "colab": {
          "base_uri": "https://localhost:8080/"
        },
        "id": "scamzqF1UiO-",
        "outputId": "fc8fd6b8-4218-48f0-a359-f9d347a0d45b"
      },
      "source": [
        "import numpy as np\n",
        "print(f\"Error 32: {(np.float32(5/7.+1/3.)-22/21.):.16f}\\nError 64: {(np.float64(5/7.+1/3.)-22/21.):.16f}\\nError 128: {(np.float128(5/7.+1/3.)-22/21.):.16f}\" )"
      ],
      "execution_count": 86,
      "outputs": [
        {
          "output_type": "stream",
          "text": [
            "Error 32: 0.0000000567663283\n",
            "Error 64: 0.0000000000000000\n",
            "Error 128: 0.0000000000000000\n"
          ],
          "name": "stdout"
        }
      ]
    },
    {
      "cell_type": "markdown",
      "metadata": {
        "id": "yJUY315tUjn-"
      },
      "source": [
        "Therefore, at the numerical computation level we must be aware that an expected \n",
        "zero result is really\n",
        "$$0\\approx 10^{-16}$$\n"
      ]
    },
    {
      "cell_type": "markdown",
      "metadata": {
        "id": "vdb_-iBaekW_"
      },
      "source": [
        "### Multiplication"
      ]
    },
    {
      "cell_type": "markdown",
      "metadata": {
        "id": "FY_9Ec5VekXA"
      },
      "source": [
        "For multiplication it is applied the same round-off rules as the addition, however, be aware that multiplicative errors propagate more quickly than additive errors."
      ]
    },
    {
      "cell_type": "code",
      "metadata": {
        "colab": {
          "base_uri": "https://localhost:8080/"
        },
        "id": "Sj_QSq39ekXA",
        "scrolled": true,
        "outputId": "0d41f198-55c5-4827-d135-e01ecfb3c788"
      },
      "source": [
        "N = 20\n",
        "xe=1; x = 1\n",
        "for i in range(N):\n",
        "    xe *= np.float(2.0**(1.0/N))\n",
        "    x *= np.float16(2.0**(1.0/N))\n",
        "print('expected: {}; obtained: {}'.format(xe,x))"
      ],
      "execution_count": 63,
      "outputs": [
        {
          "output_type": "stream",
          "text": [
            "expected: 2.000000000000003; obtained: 1.9958053041750938\n"
          ],
          "name": "stdout"
        }
      ]
    },
    {
      "cell_type": "code",
      "metadata": {
        "id": "xYyfjPVNXfdM"
      },
      "source": [
        "N = 20\n",
        "xe=1; x = 1\n",
        "for i in range(N):\n",
        "    xe *= 2.0**(1.0/N)"
      ],
      "execution_count": 64,
      "outputs": []
    },
    {
      "cell_type": "code",
      "metadata": {
        "colab": {
          "base_uri": "https://localhost:8080/"
        },
        "id": "Q8j81laNZQf7",
        "outputId": "d0a742ca-8000-4d16-c915-6f106fb90b2d"
      },
      "source": [
        "np.float16(3.1415926535897932384626433832795028841971)"
      ],
      "execution_count": 65,
      "outputs": [
        {
          "output_type": "execute_result",
          "data": {
            "text/plain": [
              "3.14"
            ]
          },
          "metadata": {
            "tags": []
          },
          "execution_count": 65
        }
      ]
    },
    {
      "cell_type": "code",
      "metadata": {
        "colab": {
          "base_uri": "https://localhost:8080/"
        },
        "id": "0A-QGfXKZAAj",
        "outputId": "47414170-882b-4b3a-9077-a323f539b824"
      },
      "source": [
        "np.float32(3.1415926535897932384626433832795028841971)"
      ],
      "execution_count": 66,
      "outputs": [
        {
          "output_type": "execute_result",
          "data": {
            "text/plain": [
              "3.1415927"
            ]
          },
          "metadata": {
            "tags": []
          },
          "execution_count": 66
        }
      ]
    },
    {
      "cell_type": "code",
      "metadata": {
        "colab": {
          "base_uri": "https://localhost:8080/"
        },
        "id": "eZSEwotrZqNK",
        "outputId": "488a1bc0-3414-4619-cb85-0f228252cabe"
      },
      "source": [
        "np.float(3.1415926535897932384626433832795028841971)"
      ],
      "execution_count": 67,
      "outputs": [
        {
          "output_type": "execute_result",
          "data": {
            "text/plain": [
              "3.141592653589793"
            ]
          },
          "metadata": {
            "tags": []
          },
          "execution_count": 67
        }
      ]
    },
    {
      "cell_type": "code",
      "metadata": {
        "colab": {
          "base_uri": "https://localhost:8080/"
        },
        "id": "yMgja3peZJIb",
        "outputId": "8aaf68b2-f69a-429a-d714-abd6dce6908d"
      },
      "source": [
        "np.float64(3.1415926535897932384626433832795028841971)"
      ],
      "execution_count": 68,
      "outputs": [
        {
          "output_type": "execute_result",
          "data": {
            "text/plain": [
              "3.141592653589793"
            ]
          },
          "metadata": {
            "tags": []
          },
          "execution_count": 68
        }
      ]
    },
    {
      "cell_type": "code",
      "metadata": {
        "colab": {
          "base_uri": "https://localhost:8080/"
        },
        "id": "V6iuTVtpYx0z",
        "outputId": "583f905d-90cd-4314-cf0a-639ad1563427"
      },
      "source": [
        "np.float128(3.1415926535897932384626433832795028841971)"
      ],
      "execution_count": 69,
      "outputs": [
        {
          "output_type": "execute_result",
          "data": {
            "text/plain": [
              "3.141592653589793116"
            ]
          },
          "metadata": {
            "tags": []
          },
          "execution_count": 69
        }
      ]
    },
    {
      "cell_type": "markdown",
      "metadata": {
        "id": "F21OUbxcekXD"
      },
      "source": [
        "The final result has an error at the third decimal digit, one more than the case of addition."
      ]
    },
    {
      "cell_type": "markdown",
      "metadata": {
        "id": "uvZ8RXy6ekXE"
      },
      "source": [
        "**ACTIVITY**\n",
        "\n",
        "Find the error associated to the finite representation in the next operations \n",
        "\n",
        "\n",
        "\n",
        "$$\n",
        "x-u, \\frac{x-u}{w}, (x-u)*v, u+v \n",
        "$$\n",
        "\n",
        "considering the values \n",
        "\n",
        "$$\n",
        "x = \\frac{5}{7}, y = \\frac{1}{3}, u = 0.71425\n",
        "$$\n",
        "\n",
        "\n",
        "\n",
        "$$\n",
        "v = 0.98765\\times 10^5, w = 0.111111\\times 10^{-4}\n",
        "$$\n"
      ]
    },
    {
      "cell_type": "code",
      "metadata": {
        "id": "7mrqb8HWp0i4"
      },
      "source": [
        ""
      ],
      "execution_count": null,
      "outputs": []
    }
  ]
}